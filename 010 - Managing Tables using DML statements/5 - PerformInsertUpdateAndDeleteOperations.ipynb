{
 "cells": [
  {
   "cell_type": "markdown",
   "id": "b85b76b1-b51e-46ff-8472-a914cb87f312",
   "metadata": {},
   "source": [
    "<h1>Perform Insert, Update, and Delete Operations</h1>"
   ]
  },
  {
   "cell_type": "markdown",
   "id": "06738cb5",
   "metadata": {},
   "source": [
    "<h3>Introduction</h3>\n",
    "\n",
    "<strong>In SQL, INSERT, UPDATE, and DELETE statements are fundamental Data Manipulation Language (DML) commands used to manage data in tables. \n",
    "<br>Each command serves a specific purpose in handling records within a database.</strong>"
   ]
  },
  {
   "cell_type": "markdown",
   "id": "a3e7ae87",
   "metadata": {},
   "source": [
    "<strong>INSERT Statement</strong>\n",
    "<br>The INSERT statement is used to add new rows to a table.\n",
    "    \n",
    "    INSERT INTO table_name (column1, column2, column3)\n",
    "    VALUES (value1, value2, value3);\n",
    "\n",
    "<strong>UPDATE Statement</strong>\n",
    "<br>The UPDATE statement modifies existing records in a table. It can update one or multiple columns in one or multiple rows.\n",
    "    \n",
    "    UPDATE table_name\n",
    "       SET column1 = value1\n",
    "         , column2 = value2\n",
    "     WHERE condition;\n",
    "\n",
    "<strong>DELETE Statement</strong>\n",
    "<br>The DELETE statement removes one or more rows from a table. It is crucial to use the WHERE clause to avoid deleting all rows unintentionally.\n",
    "    \n",
    "    DELETE FROM table_name\n",
    "    WHERE condition;"
   ]
  },
  {
   "cell_type": "markdown",
   "id": "a4189af8",
   "metadata": {},
   "source": [
    "<strong>Practical Use Cases:</strong>\n",
    "\n",
    "    Inserting Data: Useful when adding new entries to a database, such as new employees, products, or transactions.\n",
    "\n",
    "    Updating Data: Essential for maintaining accurate and current data in the database, such as adjusting salaries, correcting names, or updating contact information.\n",
    "\n",
    "    Deleting Data: Necessary for removing outdated or incorrect records, such as terminated employees or discontinued products.\n",
    "\n",
    "<strong>Best Practices:</strong>\n",
    "\n",
    "    Use Transactions: For operations involving multiple DML commands, use transactions to ensure data integrity. This allows you to commit or rollback changes if an error occurs.\n",
    "    \n",
    "    Validate Input Data: Ensure that the values being inserted or updated meet the constraints defined in your table schema, such as data types and NOT NULL constraints."
   ]
  }
 ],
 "metadata": {
  "kernelspec": {
   "display_name": "Python 3 (ipykernel)",
   "language": "python",
   "name": "python3"
  },
  "language_info": {
   "codemirror_mode": {
    "name": "ipython",
    "version": 3
   },
   "file_extension": ".py",
   "mimetype": "text/x-python",
   "name": "python",
   "nbconvert_exporter": "python",
   "pygments_lexer": "ipython3",
   "version": "3.9.12"
  }
 },
 "nbformat": 4,
 "nbformat_minor": 5
}
