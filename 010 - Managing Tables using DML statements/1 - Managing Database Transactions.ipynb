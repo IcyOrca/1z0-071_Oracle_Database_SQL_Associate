{
 "cells": [
  {
   "cell_type": "markdown",
   "id": "b85b76b1-b51e-46ff-8472-a914cb87f312",
   "metadata": {},
   "source": [
    "<h1>Matching the SELECT Statements</h1>"
   ]
  },
  {
   "cell_type": "markdown",
   "id": "06738cb5",
   "metadata": {},
   "source": [
    "<h3>Introduction</h3>\n",
    "\n",
    "<strong>Database transactions are critical for maintaining data integrity and consistency within a relational database. \n",
    "<br>A transaction is a sequence of one or more SQL operations that are executed as a single unit of work. \n",
    "<br>Managing transactions effectively is essential for ensuring that the database remains in a valid state, especially when multiple users or applications access the data simultaneously.</strong>"
   ]
  },
  {
   "cell_type": "markdown",
   "id": "bc3ebaf7",
   "metadata": {},
   "source": [
    "<h3>Key Concepts</h3>\n",
    "\n",
    "<strong>ACID Properties: </strong>Transactions are governed by four key properties:\n",
    "\n",
    "    Atomicity: Ensures that a transaction is treated as a single unit; either all operations succeed, or none are applied.\n",
    "    \n",
    "    Consistency: Ensures that a transaction brings the database from one valid state to another, maintaining all defined rules (like constraints).\n",
    "    \n",
    "    Isolation: Ensures that transactions are securely and independently processed without interference, even when they occur simultaneously.\n",
    "    \n",
    "    Durability: Guarantees that once a transaction is committed, the changes are permanent, even in the case of a system failure."
   ]
  },
  {
   "cell_type": "markdown",
   "id": "77a2a2d1",
   "metadata": {},
   "source": [
    "<h3>Managing Transactions</h3>\n",
    "\n",
    "<strong>Beginning a Transaction</strong>\n",
    "To start a transaction, use the BEGIN command or its equivalent in your database system.\n",
    "\n",
    "    BEGIN\n",
    "    \n",
    "<strong>Committing a Transaction</strong>\n",
    "The COMMIT statement is used to save all changes made during the current transaction. Once committed, the changes become permanent.\n",
    "\n",
    "    COMMIT;\n",
    "    \n",
    "<strong>Rolling Back a Transaction</strong>\n",
    "If an error occurs or a condition arises where you do not want to apply the changes, you can use the ROLLBACK statement. \n",
    "<br>This undoes all changes made since the last COMMIT or the start of the transaction.\n",
    "\n",
    "    ROLLBACK;\n",
    "    \n",
    "<strong>Committing a Transaction</strong>\n",
    "You can set a savepoint within a transaction using the SAVEPOINT command. \n",
    "<br>This allows you to roll back to a specific point rather than rolling back the entire transaction.\n",
    "\n",
    "    BEGIN;\n",
    "    \n",
    "        SAVEPOINT savepoint1;\n",
    "\n",
    "        UPDATE accounts SET balance = balance - 100 WHERE account_id = 1;\n",
    "\n",
    "        -- If an error occurs after this point, roll back to savepoint1\n",
    "        ROLLBACK TO savepoint1;\n",
    "\n",
    "        COMMIT;\n",
    "    \n",
    "    END;"
   ]
  },
  {
   "cell_type": "markdown",
   "id": "a4189af8",
   "metadata": {},
   "source": [
    "<strong>Practical Use Cases:</strong>\n",
    "\n",
    "    Transactions are especially useful in scenarios involving financial operations, such as transferring funds between accounts, where you want to ensure that both the debit and credit operations succeed or fail together.\n",
    "\n",
    "<strong>Best Practices:</strong>\n",
    "\n",
    "    Keep Transactions Short: Long-running transactions can lead to locking issues and degrade performance. Keep transactions as short as possible.\n",
    "    \n",
    "    Use Savepoints: Use savepoints to allow partial rollbacks without affecting the entire transaction.\n",
    "    \n",
    "    Handle Errors: Always include error handling to manage transaction failures gracefully.\n",
    "    \n",
    "    Test Thoroughly: Ensure that transaction logic is thoroughly tested to avoid unintended data changes."
   ]
  }
 ],
 "metadata": {
  "kernelspec": {
   "display_name": "Python 3 (ipykernel)",
   "language": "python",
   "name": "python3"
  },
  "language_info": {
   "codemirror_mode": {
    "name": "ipython",
    "version": 3
   },
   "file_extension": ".py",
   "mimetype": "text/x-python",
   "name": "python",
   "nbconvert_exporter": "python",
   "pygments_lexer": "ipython3",
   "version": "3.9.12"
  }
 },
 "nbformat": 4,
 "nbformat_minor": 5
}
