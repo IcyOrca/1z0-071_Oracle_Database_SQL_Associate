{
 "cells": [
  {
   "cell_type": "markdown",
   "id": "b85b76b1-b51e-46ff-8472-a914cb87f312",
   "metadata": {},
   "source": [
    "<h1>Dropping Columns and Setting Columns UNUSED</h1>"
   ]
  },
  {
   "cell_type": "markdown",
   "id": "06738cb5",
   "metadata": {},
   "source": [
    "<h3>Introduction</h3>\n",
    "\n",
    "<strong>Oracle provides flexibility in modifying table structures, including the ability to drop columns or mark them as UNUSED. \n",
    "<br>These features help manage and optimize the structure of a table, especially when columns are no longer needed or need to be phased out without deleting the data immediately.</strong>"
   ]
  },
  {
   "cell_type": "markdown",
   "id": "bc3ebaf7",
   "metadata": {},
   "source": [
    "<h3>Dropping Columns</h3>\n",
    "\n",
    "<strong>When a column is no longer necessary, you can permanently remove it from a table using the ALTER TABLE statement.</strong>\n",
    "\n",
    "    ALTER TABLE table_name DROP COLUMN column_name;"
   ]
  },
  {
   "cell_type": "markdown",
   "id": "fff8b012",
   "metadata": {},
   "source": [
    "<h3>Setting a Column as UNUSED</h3>\n",
    "\n",
    "<strong>Instead of immediately dropping a column, you can mark it as UNUSED. \n",
    "<br>The column will still exist in the database but will not be accessible by queries. \n",
    "<br>This is useful when you want to remove a column but prefer to delay the physical deletion for performance reasons or to avoid locking issues on large tables.</strong>\n",
    "\n",
    "<strong>Marking a column as UNUSED means:</strong>\n",
    "\n",
    "    It is no longer visible or accessible in SELECT statements.\n",
    "    It is not physically deleted until the database reclaims the space using the DROP UNUSED COLUMNS operation.\n",
    "    \n",
    "    ALTER TABLE table_name SET UNUSED COLUMN column_name;"
   ]
  },
  {
   "cell_type": "markdown",
   "id": "a4189af8",
   "metadata": {},
   "source": [
    "<strong>Best Practices for Dropping and Setting Columns as UNUSED</strong>\n",
    "\n",
    "    Unused Columns for Large Tables: For very large tables, it's often more efficient to mark columns as UNUSED rather than drop them immediately, since this operation is faster and does not require table locks.\n",
    "\n",
    "    Reclaim Space When Necessary: Regularly drop UNUSED columns to reclaim storage space, especially if many columns have been marked UNUSED over time.\n",
    "\n",
    "    Review Impact: Ensure that dropping or marking a column UNUSED does not impact dependent objects like views, indexes, or application logic. Oracle will raise errors if any dependencies exist.\n",
    "\n",
    "    Monitor Storage Usage: Dropping columns can help optimize table space, so keep an eye on storage use after dropping columns, especially in databases with heavy usage."
   ]
  }
 ],
 "metadata": {
  "kernelspec": {
   "display_name": "Python 3 (ipykernel)",
   "language": "python",
   "name": "python3"
  },
  "language_info": {
   "codemirror_mode": {
    "name": "ipython",
    "version": 3
   },
   "file_extension": ".py",
   "mimetype": "text/x-python",
   "name": "python",
   "nbconvert_exporter": "python",
   "pygments_lexer": "ipython3",
   "version": "3.9.12"
  }
 },
 "nbformat": 4,
 "nbformat_minor": 5
}
