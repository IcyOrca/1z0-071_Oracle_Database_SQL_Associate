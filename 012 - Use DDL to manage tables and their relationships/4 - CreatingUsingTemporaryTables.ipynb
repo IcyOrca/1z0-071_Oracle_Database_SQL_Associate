{
 "cells": [
  {
   "cell_type": "markdown",
   "id": "b85b76b1-b51e-46ff-8472-a914cb87f312",
   "metadata": {},
   "source": [
    "<h1>Creating and Using Temporary Tables</h1>"
   ]
  },
  {
   "cell_type": "markdown",
   "id": "06738cb5",
   "metadata": {},
   "source": [
    "<h3>Introduction</h3>\n",
    "\n",
    "<strong>Temporary tables are special kinds of tables in a database that store intermediate results during a session or transaction. \n",
    "<br>These tables are automatically deleted when the session ends or the transaction is completed, which helps in optimizing performance, reducing storage overhead, and improving data management for short-lived data processing tasks.</strong>"
   ]
  },
  {
   "cell_type": "markdown",
   "id": "bc3ebaf7",
   "metadata": {},
   "source": [
    "<h3>Types of Temporary Tables</h3>\n",
    "\n",
    "<strong>Global Temporary Tables (GTTs): </strong>These tables are created once and can be used by multiple sessions. However, each session sees its own private data.\n",
    "\n",
    "<strong>The data in temporary tables can be persistent for:</strong>\n",
    "\n",
    "    Transaction-specific: Data is retained only for the duration of a transaction and is automatically deleted once the transaction ends (via a COMMIT or ROLLBACK).\n",
    "    Session-specific: Data is retained until the user session ends."
   ]
  },
  {
   "cell_type": "markdown",
   "id": "834992b3",
   "metadata": {},
   "source": [
    "<h3>Creating Temporary Tables</h3>\n",
    "\n",
    "<strong>The syntax for creating a global temporary table is similar to that of a regular table but includes the ON COMMIT clause to define the scope of the data retention (either per transaction or per session).</strong>\n",
    "    \n",
    "    CREATE GLOBAL TEMPORARY TABLE table_name (\n",
    "        column1 datatype,\n",
    "        column2 datatype,\n",
    "        ...\n",
    "    ) ON COMMIT [DELETE ROWS | PRESERVE ROWS];\n",
    "\n",
    "    DELETE ROWS: Deletes the data when a transaction is committed (transaction-specific).\n",
    "    PRESERVE ROWS: Retains the data until the session ends (session-specific)."
   ]
  },
  {
   "cell_type": "markdown",
   "id": "a4189af8",
   "metadata": {},
   "source": [
    "<strong>Use Cases for Temporary Tables</strong>\n",
    "\n",
    "    Complex Queries: Storing intermediate results of complex queries for further analysis without cluttering the main database.\n",
    "    \n",
    "    Batch Processing: When processing large datasets in stages, temporary tables can store partial results.\n",
    "    \n",
    "    Data Aggregation: Aggregating data from multiple tables into a temporary table for reporting purposes.\n",
    "    \n",
    "    Staging Tables: Used in ETL (Extract, Transform, Load) processes to temporarily hold data before inserting it into permanent tables.\n",
    "    \n",
    "<strong>Benefits of Temporary Tables</strong>\n",
    "\n",
    "    Improved Performance: Temporary tables store data in temporary segments in memory, reducing the load on disk-based storage. This improves the performance of intermediate result handling.\n",
    "    \n",
    "    Isolation of Data: Each session works with its own copy of the data in the temporary table, ensuring that the data is isolated and secure.\n",
    "    \n",
    "    Automatic Cleanup: The data in temporary tables is automatically cleaned up at the end of the transaction or session, eliminating the need for manual deletion."
   ]
  }
 ],
 "metadata": {
  "kernelspec": {
   "display_name": "Python 3 (ipykernel)",
   "language": "python",
   "name": "python3"
  },
  "language_info": {
   "codemirror_mode": {
    "name": "ipython",
    "version": 3
   },
   "file_extension": ".py",
   "mimetype": "text/x-python",
   "name": "python",
   "nbconvert_exporter": "python",
   "pygments_lexer": "ipython3",
   "version": "3.9.12"
  }
 },
 "nbformat": 4,
 "nbformat_minor": 5
}
