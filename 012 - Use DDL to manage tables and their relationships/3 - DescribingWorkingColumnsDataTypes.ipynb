{
 "cells": [
  {
   "cell_type": "markdown",
   "id": "b85b76b1-b51e-46ff-8472-a914cb87f312",
   "metadata": {},
   "source": [
    "<h1>Describing and Working with Columns and Data Types</h1>"
   ]
  },
  {
   "cell_type": "markdown",
   "id": "06738cb5",
   "metadata": {},
   "source": [
    "<h3>Introduction</h3>\n",
    "\n",
    "<strong>When working with databases, columns and data types are fundamental concepts that define the structure and integrity of the data stored in tables. \n",
    "<br>Each column in a table must have a specific data type, which determines the kind of data it can hold, such as numbers, strings, dates, or binary data. \n",
    "<br>Understanding and choosing the correct data types is crucial for data accuracy, efficiency, and performance.</strong>"
   ]
  },
  {
   "cell_type": "markdown",
   "id": "bc3ebaf7",
   "metadata": {},
   "source": [
    "<h3>Working with Columns</h3>\n",
    "\n",
    "<strong>Columns represent the fields in a table, each storing a specific attribute of the entity the table represents. \n",
    "<br>For example, an employees table might have columns like employee_id, first_name, last_name, and hire_date. \n",
    "<br>Each column must have a data type assigned to it that specifies what kind of data it can store.\n",
    "Describing Columns</strong>\n",
    "\n",
    "The basic syntax for describing the structure of a table and its columns is the DESCRIBE or DESC command in SQL:\n",
    "\n",
    "    DESCRIBE table_name;"
   ]
  },
  {
   "cell_type": "markdown",
   "id": "834992b3",
   "metadata": {},
   "source": [
    "<h3>Data Types</h3>\n",
    "\n",
    "<strong>Data types define the type of data that can be stored in a column, such as integers, strings, dates, or binary data. \n",
    "<br>Different databases offer various data types, but they can generally be classified into several broad categories:</strong>\n",
    "    \n",
    "<strong>Numeric Data Types\n",
    "<br>Numeric data types store numbers. They can be divided into two categories: integers and floating-point numbers.</strong>\n",
    "\n",
    "    INTEGER or INT: Stores whole numbers.\n",
    "    NUMBER(p, s): Stores numbers with precision (p) and scale (s). Precision defines the total number of digits, and scale defines how many digits come after the decimal point.\n",
    "    FLOAT or DOUBLE: Stores floating-point numbers with more precision.\n",
    "        \n",
    "    CREATE TABLE sales (\n",
    "    sale_id     NUMBER(10), \n",
    "    total       NUMBER(12, 2));\n",
    "\n",
    "<strong>Character Data Types\n",
    "<br>Character data types store text strings of varying lengths.</strong>\n",
    "\n",
    "    VARCHAR2(n): Variable-length string with a maximum length of n characters.\n",
    "    CHAR(n): Fixed-length string of n characters.\n",
    "    CLOB: Stores large text data (Character Large Object).\n",
    "    \n",
    "    CREATE TABLE customers (\n",
    "    customer_id  NUMBER(10), \n",
    "    first_name   VARCHAR2(50), \n",
    "    last_name    VARCHAR2(50));\n",
    "    \n",
    "<strong>Date and Time Data Types\n",
    "<br>Date and time data types store dates, times, and timestamps.</strong>\n",
    "\n",
    "    DATE: Stores date values (year, month, day).\n",
    "    TIMESTAMP: Stores both date and time (year, month, day, hour, minute, second).\n",
    "    INTERVAL: Stores a period of time (e.g., days, months, years).\n",
    "    \n",
    "    CREATE TABLE orders (\n",
    "    order_id    NUMBER(10), \n",
    "    order_date  DATE, \n",
    "    delivery_time TIMESTAMP);\n",
    "    \n",
    "<strong>Binary Data Types\n",
    "<br>Binary data types store raw binary data, such as images, files, or multimedia.</strong>\n",
    "\n",
    "    BLOB: Binary Large Object, stores large binary data.\n",
    "    RAW: Stores variable-length binary data.\n",
    "    \n",
    "    CREATE TABLE documents (\n",
    "    document_id NUMBER(10), \n",
    "    file_data   BLOB);"
   ]
  },
  {
   "cell_type": "markdown",
   "id": "e6e31f87",
   "metadata": {},
   "source": [
    "<h3>Working with NULL Values</h3>\n",
    "\n",
    "<strong>Columns can be defined to either allow or disallow NULL values, which represent missing or unknown data.</strong>\n",
    "    \n",
    "    NULL: A value indicating that data is absent. By default, columns allow NULL unless specified otherwise.\n",
    "    NOT NULL: A constraint that ensures a column must always have a value and cannot be NULL.\n",
    "    \n",
    "    CREATE TABLE employees (\n",
    "    employee_id  NUMBER(10) NOT NULL, \n",
    "    first_name   VARCHAR2(50) NOT NULL, \n",
    "    hire_date    DATE NULL);"
   ]
  },
  {
   "cell_type": "markdown",
   "id": "dc1d079f",
   "metadata": {},
   "source": [
    "<h3>Altering Columns</h3>\n",
    "\n",
    "<strong>You can modify a column's definition after a table is created using the ALTER TABLE statement. \n",
    "<br>You can change data types, add constraints, or even drop columns.</strong>\n",
    "    \n",
    "<strong>Change Data Type:</strong>\n",
    "    \n",
    "    ALTER TABLE employees MODIFY (salary NUMBER(10, 2));\n",
    "\n",
    "<strong>Add a New Column:</strong>\n",
    "    \n",
    "    ALTER TABLE employees ADD department_id NUMBER(5);\n",
    "\n",
    "<strong>Drop a Column:</strong>\n",
    "    \n",
    "    ALTER TABLE employees DROP COLUMN department_id;"
   ]
  },
  {
   "cell_type": "markdown",
   "id": "a4189af8",
   "metadata": {},
   "source": [
    "<strong>Choosing the Right Data Types</strong>\n",
    "\n",
    "    Data Integrity: Select data types that reflect the nature of the data (e.g., use DATE for dates, VARCHAR2 for variable-length strings).\n",
    "    \n",
    "    Storage Efficiency: Use appropriate sizes for data types (e.g., don't use NUMBER(20) when NUMBER(10) is sufficient).\n",
    "    \n",
    "    Performance: Smaller data types usually lead to faster queries and less memory usage.\n",
    "    \n",
    "    Portability: Different databases may handle data types differently. Choose types that are portable if cross-database support is required."
   ]
  }
 ],
 "metadata": {
  "kernelspec": {
   "display_name": "Python 3 (ipykernel)",
   "language": "python",
   "name": "python3"
  },
  "language_info": {
   "codemirror_mode": {
    "name": "ipython",
    "version": 3
   },
   "file_extension": ".py",
   "mimetype": "text/x-python",
   "name": "python",
   "nbconvert_exporter": "python",
   "pygments_lexer": "ipython3",
   "version": "3.9.12"
  }
 },
 "nbformat": 4,
 "nbformat_minor": 5
}
