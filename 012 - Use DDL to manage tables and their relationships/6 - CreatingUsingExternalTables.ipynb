{
 "cells": [
  {
   "cell_type": "markdown",
   "id": "b85b76b1-b51e-46ff-8472-a914cb87f312",
   "metadata": {},
   "source": [
    "<h1>Creating and Using External Tables</h1>"
   ]
  },
  {
   "cell_type": "markdown",
   "id": "06738cb5",
   "metadata": {},
   "source": [
    "<h3>Introduction</h3>\n",
    "\n",
    "<strong>External tables in Oracle are used to access data that resides outside the database, typically in flat files (such as CSV or text files). \n",
    "<br>External tables allow you to query these external data files as if they were tables within the database, but without loading the data into the database itself.</strong>\n",
    "\n",
    "<strong>Oracle uses an Oracle Loader or Oracle Data Pump as the driver to read the external data files. \n",
    "<br>This feature is beneficial for accessing and processing large datasets that are stored externally while keeping the database storage separate from the file data.</strong>"
   ]
  },
  {
   "cell_type": "markdown",
   "id": "bc3ebaf7",
   "metadata": {},
   "source": [
    "<h3>Key Features of External Tables:</h3>\n",
    "\n",
    "<strong>Read-Only: </strong>External tables can only be queried; you cannot insert, update, or delete data in them.\n",
    "<br><strong>Data Format: </strong>Typically, the data resides in flat files such as CSV or text files.\n",
    "<br><strong>Location: </strong>The files can reside on the database server's file system or in cloud storage (like Oracle Cloud or Amazon S3)."
   ]
  },
  {
   "cell_type": "markdown",
   "id": "834992b3",
   "metadata": {},
   "source": [
    "<h3>Creating External Tables</h3>\n",
    "\n",
    "<strong>The CREATE TABLE statement is used to define an external table. However, unlike regular tables, you also specify details about the external data, such as the file location, format, and access parameters.</strong>\n",
    "    \n",
    "    CREATE TABLE table_name\n",
    "        (\n",
    "            column1 datatype,\n",
    "            column2 datatype,\n",
    "            ...\n",
    "        )\n",
    "        ORGANIZATION EXTERNAL\n",
    "        (\n",
    "            TYPE ORACLE_LOADER\n",
    "            DEFAULT DIRECTORY directory_name\n",
    "            ACCESS PARAMETERS\n",
    "            (\n",
    "                RECORDS DELIMITED BY newline\n",
    "                FIELDS TERMINATED BY ',' OPTIONALLY ENCLOSED BY '\"'\n",
    "                ( column1 CHAR, column2 CHAR, ... )\n",
    "            )\n",
    "            LOCATION ('file_name.csv')\n",
    "        )\n",
    "        REJECT LIMIT unlimited;\n",
    "\n",
    "<strong>ORGANIZATION EXTERNAL: </strong>Indicates that this is an external table.\n",
    "<br><strong>TYPE ORACLE_LOADER: </strong>Specifies the type of external table. ORACLE_LOADER is used for reading data from external flat files.\n",
    "<br><strong>DEFAULT DIRECTORY: </strong>Specifies the directory object where the external file is stored. This directory must be created in advance using the CREATE DIRECTORY statement.\n",
    "<br><strong>ACCESS PARAMETERS: </strong>Define how the external file is read, including delimiters and field formats.\n",
    "<br><strong>LOCATION: </strong>Specifies the file or files to read from.\n",
    "<br><strong>REJECT LIMIT: </strong>Specifies the number of bad records (that fail to meet the format requirements) before the operation is aborted."
   ]
  },
  {
   "cell_type": "markdown",
   "id": "980e041e",
   "metadata": {},
   "source": [
    "<h3>Query the External Table</h3>\n",
    "\n",
    "<strong>Once the external table is created, you can query it just like a regular table:</strong>\n",
    "    \n",
    "    SELECT col FROM table;"
   ]
  },
  {
   "cell_type": "markdown",
   "id": "a4189af8",
   "metadata": {},
   "source": [
    "<strong>Benefits of External Tables</strong>\n",
    "\n",
    "    Data Processing: They are useful for bulk data loading, data transformation, and preprocessing before loading into regular tables.\n",
    "    \n",
    "    Separation of Storage: Data can be stored externally, which can save space in the database while still allowing Oracle to query and process the data.\n",
    "    \n",
    "    No Data Duplication: Data is accessed directly from the external file, so there's no need to load the data into the database, avoiding duplication.\n",
    "    \n",
    "<strong>Best Practices for Table Creation</strong>\n",
    "\n",
    "    Ensure that the data format in the external files is well-defined and consistent to avoid errors during the reading process.\n",
    "    \n",
    "    Grant appropriate access permissions to users and applications that need to query external tables.\n",
    "    \n",
    "    Use external tables for read-intensive operations where the data does not need to be modified."
   ]
  }
 ],
 "metadata": {
  "kernelspec": {
   "display_name": "Python 3 (ipykernel)",
   "language": "python",
   "name": "python3"
  },
  "language_info": {
   "codemirror_mode": {
    "name": "ipython",
    "version": 3
   },
   "file_extension": ".py",
   "mimetype": "text/x-python",
   "name": "python",
   "nbconvert_exporter": "python",
   "pygments_lexer": "ipython3",
   "version": "3.9.12"
  }
 },
 "nbformat": 4,
 "nbformat_minor": 5
}
