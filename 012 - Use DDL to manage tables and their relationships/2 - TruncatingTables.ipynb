{
 "cells": [
  {
   "cell_type": "markdown",
   "id": "b85b76b1-b51e-46ff-8472-a914cb87f312",
   "metadata": {},
   "source": [
    "<h1>Truncating Tables</h1>"
   ]
  },
  {
   "cell_type": "markdown",
   "id": "06738cb5",
   "metadata": {},
   "source": [
    "<h3>Introduction</h3>\n",
    "\n",
    "<strong>The TRUNCATE statement in SQL is used to quickly remove all rows from a table without deleting the table itself. \n",
    "<br>It is a DDL (Data Definition Language) command, unlike DELETE, which is a DML (Data Manipulation Language) command. \n",
    "<br>TRUNCATE is faster and more efficient for clearing large tables since it does not generate individual row-level delete actions.</strong>"
   ]
  },
  {
   "cell_type": "markdown",
   "id": "bc3ebaf7",
   "metadata": {},
   "source": [
    "<h3>Key Characteristics of TRUNCATE</h3>\n",
    "\n",
    "    Removes all rows: All records in the table are deleted, but the table structure and its dependencies (such as indexes, triggers, and constraints) remain intact.\n",
    "    \n",
    "    Faster than DELETE: Since TRUNCATE does not generate row-level logs and does not fire triggers, it performs faster.\n",
    "    \n",
    "    Cannot be rolled back: Unlike DELETE, which can be rolled back in a transaction, TRUNCATE is permanent and cannot be undone.\n",
    "    \n",
    "    Resets storage parameters: Depending on the database system, it may reset storage parameters like high-water marks.\n",
    "    \n",
    "    Implicit commit: TRUNCATE issues an implicit commit before and after it runs, meaning changes are automatically committed.\n",
    "\n",
    "<strong>Syntax: </strong>\n",
    "    \n",
    "    TRUNCATE TABLE table_name;"
   ]
  },
  {
   "cell_type": "markdown",
   "id": "bb76bc48",
   "metadata": {},
   "source": [
    "<h3>Cascading Truncate</h3>\n",
    "\n",
    "<strong>Some databases allow you to use a cascading TRUNCATE option to truncate a table and all related child tables with foreign key constraints.</strong>\n",
    "\n",
    "    TRUNCATE TABLE parent_table CASCADE;"
   ]
  },
  {
   "cell_type": "markdown",
   "id": "1e37c94a",
   "metadata": {},
   "source": [
    "<h3>Limitations of TRUNCATE</h3>\n",
    "\n",
    "<strong>Cannot truncate a table with active foreign key constraints: </strong>If a table is referenced by another table via a foreign key, you cannot truncate it unless you first disable the foreign key constraints or use the CASCADE option.\n",
    "<br><strong>Cannot truncate a table owned by another user: </strong>Unless you have the required privileges, truncating another user's table is not allowed."
   ]
  },
  {
   "cell_type": "markdown",
   "id": "a4189af8",
   "metadata": {},
   "source": [
    "<strong>Best Practices:</strong>\n",
    "\n",
    "    Use when data is no longer needed: TRUNCATE is best suited for scenarios where all data in a table is irrelevant, such as clearing temporary tables or resetting a dataset.\n",
    "    \n",
    "    Be cautious of transactions: Since TRUNCATE cannot be rolled back, avoid using it within long-running transactions or without a clear backup strategy.\n",
    "    \n",
    "    Avoid unnecessary truncations: If only specific records need to be removed, prefer using the DELETE statement with a WHERE clause."
   ]
  }
 ],
 "metadata": {
  "kernelspec": {
   "display_name": "Python 3 (ipykernel)",
   "language": "python",
   "name": "python3"
  },
  "language_info": {
   "codemirror_mode": {
    "name": "ipython",
    "version": 3
   },
   "file_extension": ".py",
   "mimetype": "text/x-python",
   "name": "python",
   "nbconvert_exporter": "python",
   "pygments_lexer": "ipython3",
   "version": "3.9.12"
  }
 },
 "nbformat": 4,
 "nbformat_minor": 5
}
