{
 "cells": [
  {
   "cell_type": "markdown",
   "id": "b85b76b1-b51e-46ff-8472-a914cb87f312",
   "metadata": {},
   "source": [
    "<h1>Creating and Using Temporary Tables</h1>"
   ]
  },
  {
   "cell_type": "markdown",
   "id": "06738cb5",
   "metadata": {},
   "source": [
    "<h3>Introduction</h3>\n",
    "\n",
    "<strong>A table is the fundamental structure in a relational database where data is stored. \n",
    "<br>In Oracle, tables store data in rows and columns, and they are organized by schema. \n",
    "<br>Creating a table is a core task when setting up a database, as it defines the structure of how data will be stored and retrieved.</strong>\n",
    "\n",
    "<strong>When creating a table, it is crucial to plan its design carefully, including column names, data types, constraints, and relationships with other tables. \n",
    "<br>The design impacts the performance, scalability, and integrity of the data.</strong>"
   ]
  },
  {
   "cell_type": "markdown",
   "id": "bc3ebaf7",
   "metadata": {},
   "source": [
    "<h3>Basic Syntax for Creating a Table</h3>\n",
    "\n",
    "<strong>The CREATE TABLE statement is used to create a new table in the database. \n",
    "<br>The syntax includes defining the table name, columns, and their respective data types.</strong>\n",
    "\n",
    "    CREATE TABLE table_name (\n",
    "    column1 datatype [constraint],\n",
    "    column2 datatype [constraint],\n",
    "    ...);\n",
    "    \n",
    "<strong>table_name: </strong>The name of the table.\n",
    "<br><strong>column1, column2: </strong>The names of the columns in the table.\n",
    "<br><strong>datatype: </strong>The data type of the column (e.g., NUMBER, VARCHAR2, DATE).\n",
    "<br><strong>constraint: </strong>Optional. Defines rules for the data in that column, such as NOT NULL or PRIMARY KEY."
   ]
  },
  {
   "cell_type": "markdown",
   "id": "834992b3",
   "metadata": {},
   "source": [
    "<h3>Creating a Table Based on Another Table</h3>\n",
    "\n",
    "<strong>You can create a new table based on the structure of an existing table. \n",
    "<br>This approach copies the column definitions but not the data.</strong>\n",
    "    \n",
    "    CREATE TABLE new_table AS \n",
    "        SELECT column1, column2, ...\n",
    "          FROM existing_table\n",
    "         WHERE condition;"
   ]
  },
  {
   "cell_type": "markdown",
   "id": "980e041e",
   "metadata": {},
   "source": [
    "<h3>Creating Tables with DEFAULT Values</h3>\n",
    "\n",
    "<strong>Oracle allows you to specify default values for columns when creating a table. \n",
    "<br>If a value is not provided during the insertion of data, the default value will be used.</strong>\n",
    "    \n",
    "    CREATE TABLE products (\n",
    "    product_id   NUMBER(6) PRIMARY KEY,\n",
    "    product_name VARCHAR2(50) NOT NULL,\n",
    "    price        NUMBER(8, 2) DEFAULT 0.00);"
   ]
  },
  {
   "cell_type": "markdown",
   "id": "a4189af8",
   "metadata": {},
   "source": [
    "<strong>Best Practices for Table Creation</strong>\n",
    "\n",
    "    Naming Conventions: Use clear, descriptive names for tables and columns to make the structure easy to understand.\n",
    "    \n",
    "    Normalization: Properly normalize tables to avoid redundancy and ensure data integrity.\n",
    "    \n",
    "    Constraints: Use constraints effectively to maintain data accuracy and enforce relationships between tables.\n",
    "    \n",
    "    Data Types: Choose appropriate data types for columns to optimize storage and performance.\n",
    "    \n",
    "    Security: Grant appropriate privileges when creating tables to control access to sensitive data."
   ]
  }
 ],
 "metadata": {
  "kernelspec": {
   "display_name": "Python 3 (ipykernel)",
   "language": "python",
   "name": "python3"
  },
  "language_info": {
   "codemirror_mode": {
    "name": "ipython",
    "version": 3
   },
   "file_extension": ".py",
   "mimetype": "text/x-python",
   "name": "python",
   "nbconvert_exporter": "python",
   "pygments_lexer": "ipython3",
   "version": "3.9.12"
  }
 },
 "nbformat": 4,
 "nbformat_minor": 5
}
