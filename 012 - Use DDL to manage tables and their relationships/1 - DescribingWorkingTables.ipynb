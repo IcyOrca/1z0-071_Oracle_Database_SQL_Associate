{
 "cells": [
  {
   "cell_type": "markdown",
   "id": "b85b76b1-b51e-46ff-8472-a914cb87f312",
   "metadata": {},
   "source": [
    "<h1>Describing and Working with Tables</h1>"
   ]
  },
  {
   "cell_type": "markdown",
   "id": "06738cb5",
   "metadata": {},
   "source": [
    "<h3>Introduction</h3>\n",
    "\n",
    "<strong>Tables are fundamental structures in relational databases, used to store data in a structured format. \n",
    "<br>Each table consists of rows (records) and columns (fields), with each column holding a specific type of data. \n",
    "<br>Managing tables effectively is essential for database design and optimization.</strong>"
   ]
  },
  {
   "cell_type": "markdown",
   "id": "bc3ebaf7",
   "metadata": {},
   "source": [
    "<h3>Understanding Tables</h3>\n",
    "\n",
    "<strong>A table is composed of:</strong>\n",
    "\n",
    "    Columns: Define the structure of the table, specifying the data type and constraints for each field.\n",
    "    Rows: Represent individual records containing data for each column in the table.\n",
    "\n",
    "<strong>Describing a Table: </strong>\n",
    "\n",
    "    DESCRIBE employees;\n",
    "    \n",
    "This will output the column names, data types, and nullability."
   ]
  },
  {
   "cell_type": "markdown",
   "id": "0af7988f",
   "metadata": {},
   "source": [
    "<h3>Viewing Table Metadata</h3>\n",
    "\n",
    "<strong>You can query the USER_TABLES or ALL_TABLES views to see metadata about tables in the database.</strong>\n",
    "    \n",
    "<strong>To list all tables owned by the current user:</strong>\n",
    "\n",
    "    SELECT table_name\n",
    "      FROM user_tables;\n",
    "    \n",
    "<strong>To list tables accessible to the user:</strong>\n",
    "\n",
    "    SELECT table_name\n",
    "      FROM all_tables;"
   ]
  },
  {
   "cell_type": "markdown",
   "id": "35b43e65",
   "metadata": {},
   "source": [
    "<h3>Managing Tables</h3>\n",
    "    \n",
    "<strong>The ALTER TABLE statement allows you to rename a table.</strong>\n",
    "\n",
    "    ALTER TABLE old_table_name RENAME TO new_table_name;\n",
    "    \n",
    "<strong>The DROP TABLE statement removes a table and all its data from the database.</strong>\n",
    "\n",
    "    DROP TABLE table_name;\n",
    "\n",
    "<strong>Checking Table Dependencies</strong>\n",
    "<br>When dropping a table or modifying its structure, it’s essential to understand its dependencies, such as views or foreign keys linked to other tables.\n",
    "\n",
    "    SELECT object_name, object_type\n",
    "      FROM user_dependencies\n",
    "     WHERE referenced_name = 'EMPLOYEES';"
   ]
  },
  {
   "cell_type": "markdown",
   "id": "a4189af8",
   "metadata": {},
   "source": [
    "<strong>Best Practices:</strong>\n",
    "\n",
    "    Name tables descriptively: Ensure the table name reflects its content and purpose for clarity.\n",
    "    \n",
    "    Ensure normalization: Apply database normalization rules to reduce redundancy and improve data integrity.\n",
    "    \n",
    "    Set appropriate constraints: Use constraints like primary keys, foreign keys, and unique indexes to ensure data integrity and consistency.\n",
    "    \n",
    "    Monitor performance: Regularly analyze the structure and performance of tables to ensure they meet query and storage requirements."
   ]
  }
 ],
 "metadata": {
  "kernelspec": {
   "display_name": "Python 3 (ipykernel)",
   "language": "python",
   "name": "python3"
  },
  "language_info": {
   "codemirror_mode": {
    "name": "ipython",
    "version": 3
   },
   "file_extension": ".py",
   "mimetype": "text/x-python",
   "name": "python",
   "nbconvert_exporter": "python",
   "pygments_lexer": "ipython3",
   "version": "3.9.12"
  }
 },
 "nbformat": 4,
 "nbformat_minor": 5
}
