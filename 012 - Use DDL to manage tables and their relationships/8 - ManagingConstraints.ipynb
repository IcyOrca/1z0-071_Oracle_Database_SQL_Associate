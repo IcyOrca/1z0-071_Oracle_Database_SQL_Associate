{
 "cells": [
  {
   "cell_type": "markdown",
   "id": "b85b76b1-b51e-46ff-8472-a914cb87f312",
   "metadata": {},
   "source": [
    "<h1>Managing Constraints</h1>"
   ]
  },
  {
   "cell_type": "markdown",
   "id": "06738cb5",
   "metadata": {},
   "source": [
    "<h3>Introduction</h3>\n",
    "\n",
    "<strong>Constraints ensure data integrity and define rules for the data in a table. \n",
    "<br>Common constraints in Oracle include:</strong>\n",
    "\n",
    "<strong>NOT NULL: </strong>Ensures that a column cannot have NULL values.\n",
    "<br><strong>UNIQUE: </strong>Ensures that all values in a column are unique.\n",
    "<br><strong>PRIMARY KEY: </strong>A combination of NOT NULL and UNIQUE that uniquely identifies each row in a table.\n",
    "<br><strong>FOREIGN KEY: </strong>Links a column to the PRIMARY KEY in another table to enforce referential integrity.\n",
    "<br><strong>CHECK: </strong>Ensures that values in a column meet a specific condition."
   ]
  },
  {
   "cell_type": "markdown",
   "id": "bc3ebaf7",
   "metadata": {},
   "source": [
    "<h3>Managing Constraints</h3>\n",
    "\n",
    "<strong>This adds a CHECK constraint ensuring that the salary column contains only positive values.</strong>\n",
    "\n",
    "    ALTER TABLE employees ADD CONSTRAINT emp_salary_ck CHECK (salary > 0);\n",
    "\n",
    "<strong>This removes the CHECK constraint.</strong>\n",
    "\n",
    "    ALTER TABLE employees DROP CONSTRAINT emp_salary_ck;"
   ]
  },
  {
   "cell_type": "markdown",
   "id": "dc41f4a6",
   "metadata": {},
   "source": [
    "<h3>Enable/Disable Constraints</h3>\n",
    "\n",
    "<strong>Disable: </strong>Temporarily turns off a constraint.\n",
    "\n",
    "    ALTER TABLE employees DISABLE CONSTRAINT emp_salary_ck;\n",
    "\n",
    "<strong>Enable: </strong>Re-enables the constraint.\n",
    "\n",
    "    ALTER TABLE employees ENABLE CONSTRAINT emp_salary_ck;"
   ]
  }
 ],
 "metadata": {
  "kernelspec": {
   "display_name": "Python 3 (ipykernel)",
   "language": "python",
   "name": "python3"
  },
  "language_info": {
   "codemirror_mode": {
    "name": "ipython",
    "version": 3
   },
   "file_extension": ".py",
   "mimetype": "text/x-python",
   "name": "python",
   "nbconvert_exporter": "python",
   "pygments_lexer": "ipython3",
   "version": "3.9.12"
  }
 },
 "nbformat": 4,
 "nbformat_minor": 5
}
