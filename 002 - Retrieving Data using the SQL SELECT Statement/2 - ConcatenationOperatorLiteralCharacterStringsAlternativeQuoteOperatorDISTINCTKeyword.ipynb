{
 "cells": [
  {
   "cell_type": "markdown",
   "id": "b85b76b1-b51e-46ff-8472-a914cb87f312",
   "metadata": {},
   "source": [
    "<h1>Using Concatenation Operator, Literal Character Strings, Alternative Quote Operator, and the DISTINCT Keyword</h1>"
   ]
  },
  {
   "cell_type": "markdown",
   "id": "531972d7-b93b-47b3-a410-8d3313864657",
   "metadata": {},
   "source": [
    "<h3>Introduction</h3>\n",
    "\n",
    "<strong>This topic focuses on several SQL features that improve data presentation:</strong>\n",
    "\n",
    "<strong>Concatenation operator:</strong> Joins multiple strings or columns.\n",
    "<br><strong>Literal character strings:</strong> Adds constant text to output.\n",
    "<br><strong>Alternative quote operator:</strong> Provides flexibility with special characters.\n",
    "<br><strong>DISTINCT keyword:</strong> Removes duplicate rows from results."
   ]
  },
  {
   "cell_type": "markdown",
   "id": "872047ab-841f-43e8-bb01-415ff3e5dfd9",
   "metadata": {},
   "source": [
    "<h3>Concatenation Operator</h3>\n",
    "\n",
    "<strong>The concatenation operator (||) is used to merge multiple strings or columns into a single field.</strong>\n",
    "<br><br><strong>Example:</strong> you can combine first_name and last_name to create a Full Name field.\n",
    "    \n",
    "    SELECT first_name || ' ' || last_name AS \"Full Name\" \n",
    "      FROM employees;"
   ]
  },
  {
   "cell_type": "markdown",
   "id": "7c172862-43d2-4141-8044-1c324f942002",
   "metadata": {},
   "source": [
    "<h3>Literal Character Strings</h3>\n",
    "\n",
    "<strong>Literal character strings add context or labels to output.</strong>\n",
    "<br><strong>These can be combined with columns using the concatenation operator.</strong>\n",
    "<br><br><strong>Example:</strong> to prepend \"Employee: \" to each name\n",
    "\n",
    "    SELECT 'Employee: ' || first_name || ' ' || last_name AS \"Employee Info\" \n",
    "      FROM employees;"
   ]
  },
  {
   "cell_type": "markdown",
   "id": "ac6a0935-4f75-487a-86aa-eeaf1361ed31",
   "metadata": {},
   "source": [
    "<h3>Alternative Quote Operator</h3>\n",
    "\n",
    "<strong>The alternative quote operator (q) allows flexibility with strings containing special characters, such as single quotes.</strong>\n",
    "<br><br><strong>Example:</strong> to include single quotes in a string:\n",
    "\n",
    "    SELECT q'{Employee's Department}' AS \"Department Label\" \n",
    "      FROM dual;"
   ]
  },
  {
   "cell_type": "markdown",
   "id": "cfa1e756",
   "metadata": {},
   "source": [
    "<h3>DISTINCT Keyword</h3>\n",
    "\n",
    "<strong>The DISTINCT keyword eliminates duplicate rows from the result, based on specified columns.</strong>\n",
    "<br><br><strong>Example:</strong> to retrieve unique department IDs from the employees table:\n",
    "\n",
    "    SELECT DISTINCT department_id \n",
    "      FROM employees;"
   ]
  },
  {
   "cell_type": "markdown",
   "id": "174f7f59",
   "metadata": {},
   "source": [
    "<strong>Practical Use:</strong>\n",
    "\n",
    "    Use the concatenation operator to format names or descriptive fields.\n",
    "    \n",
    "    Add literal strings to provide context.\n",
    "    \n",
    "    Apply the DISTINCT keyword for unique results.\n",
    "\n",
    "<strong>Best Practices:</strong>\n",
    "\n",
    "    Use descriptive labels when combining columns or adding text, ensure clarity.\n",
    "    \n",
    "    Apply DISTINCT only as needed, overusing it may impact performance.\n"
   ]
  }
 ],
 "metadata": {
  "kernelspec": {
   "display_name": "Python 3 (ipykernel)",
   "language": "python",
   "name": "python3"
  },
  "language_info": {
   "codemirror_mode": {
    "name": "ipython",
    "version": 3
   },
   "file_extension": ".py",
   "mimetype": "text/x-python",
   "name": "python",
   "nbconvert_exporter": "python",
   "pygments_lexer": "ipython3",
   "version": "3.9.12"
  }
 },
 "nbformat": 4,
 "nbformat_minor": 5
}
