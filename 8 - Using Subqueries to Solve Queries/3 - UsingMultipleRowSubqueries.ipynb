{
 "cells": [
  {
   "cell_type": "markdown",
   "id": "b85b76b1-b51e-46ff-8472-a914cb87f312",
   "metadata": {},
   "source": [
    "<h1>Using Multiple Row Subqueries</h1>"
   ]
  },
  {
   "cell_type": "markdown",
   "id": "06738cb5",
   "metadata": {},
   "source": [
    "<h3>Introduction</h3>\n",
    "\n",
    "<strong>Multiple row subqueries are subqueries that return more than one row as output. \n",
    "<br>These subqueries are often used with operators that can handle multiple results, such as IN, ANY, and ALL, to compare the output of the subquery with values in the outer query. \n",
    "<br>They are commonly used to match multiple values from one table with data from another table.</strong>"
   ]
  },
  {
   "cell_type": "markdown",
   "id": "bc3ebaf7",
   "metadata": {},
   "source": [
    "<h3>Key Operators for Multiple Row Subqueries</h3>\n",
    "\n",
    "<strong>IN: </strong>Checks if a value matches any value in a list of results.\n",
    "\n",
    "    SELECT employee_id, salary\n",
    "      FROM employees\n",
    "     WHERE salary IN (SELECT salary\n",
    "                        FROM employees\n",
    "                       WHERE department_id = 40);\n",
    "\n",
    "<br><strong>ANY: </strong>Compares a value to each value in a list, and returns true if any comparison is true.\n",
    "\n",
    "    SELECT employee_id, salary\n",
    "      FROM employees\n",
    "     WHERE salary < ANY (SELECT salary\n",
    "                           FROM employees\n",
    "                          WHERE department_id = 30);\n",
    "\n",
    "<br><strong>ALL: </strong>Compares a value to each value in a list, and returns true only if all comparisons are true.\n",
    "\n",
    "    SELECT employee_id, salary\n",
    "      FROM employees\n",
    "     WHERE salary > ALL (SELECT salary\n",
    "                           FROM employees\n",
    "                          WHERE department_id = 40);\n"
   ]
  },
  {
   "cell_type": "markdown",
   "id": "6997d267",
   "metadata": {},
   "source": [
    "<h3>Using CROSS JOIN for Cartesian Products</h3>\n",
    "\n",
    "<strong>A CROSS JOIN is a type of join that explicitly returns the Cartesian Product of two tables.</strong>\n",
    "<br><strong>Example:</strong>\n",
    "\n",
    "    SELECT d.department_name, e.employee_name\n",
    "      FROM departments d\n",
    "     CROSS JOIN employees e;"
   ]
  },
  {
   "cell_type": "markdown",
   "id": "a4189af8",
   "metadata": {},
   "source": [
    "<strong>Avoiding Unintended Cartesian Products:</strong>\n",
    "\n",
    "    IN Operator: Use when you need to match a value with a list of values.\n",
    "    ANY Operator: Use when you need at least one match from the list of values.\n",
    "    ALL Operator: Use when all comparisons must be true.\n",
    "\n",
    "<strong>Best Practices:</strong>\n",
    "\n",
    "    Limit Subquery Results: Always ensure that subqueries return a manageable number of rows.\n",
    "    Choose the Right Operator: Use IN when looking for matches within a list, ANY for partial matches, and ALL for conditions that must satisfy all values.\n",
    "Optimize Performance: Minimize the data returned by the subquery by using WHERE clauses and indexes where applicable."
   ]
  }
 ],
 "metadata": {
  "kernelspec": {
   "display_name": "Python 3 (ipykernel)",
   "language": "python",
   "name": "python3"
  },
  "language_info": {
   "codemirror_mode": {
    "name": "ipython",
    "version": 3
   },
   "file_extension": ".py",
   "mimetype": "text/x-python",
   "name": "python",
   "nbconvert_exporter": "python",
   "pygments_lexer": "ipython3",
   "version": "3.9.12"
  }
 },
 "nbformat": 4,
 "nbformat_minor": 5
}
