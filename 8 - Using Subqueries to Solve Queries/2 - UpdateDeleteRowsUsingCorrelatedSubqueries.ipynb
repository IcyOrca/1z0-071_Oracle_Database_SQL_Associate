{
 "cells": [
  {
   "cell_type": "markdown",
   "id": "b85b76b1-b51e-46ff-8472-a914cb87f312",
   "metadata": {},
   "source": [
    "<h1>Updating and Deleting Rows Using Correlated Subqueries</h1>"
   ]
  },
  {
   "cell_type": "markdown",
   "id": "06738cb5",
   "metadata": {},
   "source": [
    "<h3>Introduction</h3>\n",
    "\n",
    "<strong>Correlated subqueries are subqueries that reference columns from the outer query. \n",
    "<br>Unlike standard subqueries, which run independently of the outer query, a correlated subquery executes once for each row in the outer query. \n",
    "<br>This functionality is particularly useful for update and delete operations, allowing modifications based on conditions that relate to other rows in the same or a different table.</strong>"
   ]
  },
  {
   "cell_type": "markdown",
   "id": "bc3ebaf7",
   "metadata": {},
   "source": [
    "<h3>What is a Correlated Subquery?</h3>\n",
    "\n",
    "<strong>A correlated subquery uses values from the outer query to execute.\n",
    "<br>The subquery is evaluated for each row processed by the outer query.\n",
    "<br>Correlated subqueries can be used within UPDATE and DELETE statements to target specific rows for modification or removal.</strong>\n",
    "\n",
    "<strong>Using Correlated Subqueries in UPDATE Statements:</strong> \n",
    "\n",
    "    UPDATE employees e\n",
    "       SET salary = salary + 500\n",
    "     WHERE salary < (SELECT avg_salary\n",
    "                       FROM departments d\n",
    "                      WHERE e.department_id = d.department_id);\n",
    "\n",
    "The main query then updates the salary of each employee whose current salary is below this average.\n",
    "\n",
    "<strong>Using Correlated Subqueries in UPDATE Statements:</strong> \n",
    "\n",
    "    UPDATE employees e\n",
    "       SET salary = salary + 500\n",
    "     WHERE salary < (SELECT avg_salary\n",
    "                       FROM departments d\n",
    "                      WHERE e.department_id = d.department_id);\n",
    "\n",
    "The main query then updates the salary of each employee whose current salary is below this average."
   ]
  },
  {
   "cell_type": "markdown",
   "id": "6997d267",
   "metadata": {},
   "source": [
    "<h3>When to Use OUTER Joins</h3>\n",
    "\n",
    "<strong>LEFT JOIN:</strong> Use when you want to retain all rows from the primary (left) table, regardless of matching rows in the secondary table.\n",
    "\n",
    "<strong>RIGHT JOIN:</strong> Use when all rows from the secondary (right) table are needed, along with any matches from the primary table.\n",
    "\n",
    "<strong>FULL OUTER JOIN:</strong> Use when you want all records from both tables, whether or not they match, to ensure no data is omitted.\n",
    "\n",
    "    SELECT e1.first_name AS \"Employee\", e2.first_name AS \"Manager\"\n",
    "      FROM employees e1, employees e2\n",
    "     WHERE e1.manager_id = e2.employee_id;"
   ]
  },
  {
   "cell_type": "markdown",
   "id": "a4189af8",
   "metadata": {},
   "source": [
    "<strong>Best Practices:</strong>\n",
    "\n",
    "    Select Only Necessary Columns: Specify only the columns you need, as OUTER JOINS can result in \n",
    "    large result sets.\n",
    "    Use WHERE Clause for Additional Filtering: You can combine OUTER JOINS with the WHERE clause to further \n",
    "    filter your results as needed.\n",
    "    Check for NULL Values: Since OUTER JOINS often produce NULL for unmatched records, plan for potential \n",
    "    NULL handling or replacement."
   ]
  }
 ],
 "metadata": {
  "kernelspec": {
   "display_name": "Python 3 (ipykernel)",
   "language": "python",
   "name": "python3"
  },
  "language_info": {
   "codemirror_mode": {
    "name": "ipython",
    "version": 3
   },
   "file_extension": ".py",
   "mimetype": "text/x-python",
   "name": "python",
   "nbconvert_exporter": "python",
   "pygments_lexer": "ipython3",
   "version": "3.9.12"
  }
 },
 "nbformat": 4,
 "nbformat_minor": 5
}
