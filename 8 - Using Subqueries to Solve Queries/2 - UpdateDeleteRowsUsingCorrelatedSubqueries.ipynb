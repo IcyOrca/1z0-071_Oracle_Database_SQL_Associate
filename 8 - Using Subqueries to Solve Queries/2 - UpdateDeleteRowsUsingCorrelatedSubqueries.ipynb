{
 "cells": [
  {
   "cell_type": "markdown",
   "id": "b85b76b1-b51e-46ff-8472-a914cb87f312",
   "metadata": {},
   "source": [
    "<h1>Updating and Deleting Rows Using Correlated Subqueries</h1>"
   ]
  },
  {
   "cell_type": "markdown",
   "id": "06738cb5",
   "metadata": {},
   "source": [
    "<h3>Introduction</h3>\n",
    "\n",
    "<strong>Correlated subqueries are subqueries that reference columns from the outer query. \n",
    "<br>Unlike standard subqueries, which run independently of the outer query, a correlated subquery executes once for each row in the outer query. \n",
    "<br>This functionality is particularly useful for update and delete operations, allowing modifications based on conditions that relate to other rows in the same or a different table.</strong>"
   ]
  },
  {
   "cell_type": "markdown",
   "id": "bc3ebaf7",
   "metadata": {},
   "source": [
    "<h3>What is a Correlated Subquery?</h3>\n",
    "\n",
    "<strong>A correlated subquery uses values from the outer query to execute.\n",
    "<br>The subquery is evaluated for each row processed by the outer query.\n",
    "<br>Correlated subqueries can be used within UPDATE and DELETE statements to target specific rows for modification or removal.</strong>\n",
    "\n",
    "<strong>Using Correlated Subqueries in UPDATE Statements:</strong> \n",
    "\n",
    "    UPDATE employees e\n",
    "       SET salary = salary + 500\n",
    "     WHERE salary < (SELECT avg_salary\n",
    "                       FROM departments d\n",
    "                      WHERE e.department_id = d.department_id);\n",
    "\n",
    "The main query then updates the salary of each employee whose current salary is below this average.\n",
    "\n",
    "<strong>Using Correlated Subqueries in DELETE Statements:</strong> \n",
    "\n",
    "    DELETE FROM employees e\n",
    "     WHERE salary > (SELECT max_salary\n",
    "                       FROM departments d\n",
    "                      WHERE e.department_id = d.department_id);\n",
    "\n",
    "The DELETE statement then removes any employee whose salary exceeds this maximum."
   ]
  },
  {
   "cell_type": "markdown",
   "id": "a4189af8",
   "metadata": {},
   "source": [
    "<strong>Practical Use Cases:</strong>\n",
    "\n",
    "    Update Related Data: Modify records in a table based on related.\n",
    "    \n",
    "    Enforce Data Consistency: Remove or update data to keep consistency, such as deleting records that no longer meet updated business rules.\n",
    "\n",
    "<strong>Best Practices:</strong>\n",
    "\n",
    "    Limit the Rows in the Subquery: Optimize the subquery to return as few rows as possible by using filters.\n",
    "    \n",
    "    Test Subquery Alone First: Ensure that the subquery returns the expected result before integrating it into UPDATE or DELETE statements.\n",
    "    \n",
    "    Consider JOIN Alternatives: a JOIN might be more efficient, especially for updating or deleting large numbers of rows."
   ]
  }
 ],
 "metadata": {
  "kernelspec": {
   "display_name": "Python 3 (ipykernel)",
   "language": "python",
   "name": "python3"
  },
  "language_info": {
   "codemirror_mode": {
    "name": "ipython",
    "version": 3
   },
   "file_extension": ".py",
   "mimetype": "text/x-python",
   "name": "python",
   "nbconvert_exporter": "python",
   "pygments_lexer": "ipython3",
   "version": "3.9.12"
  }
 },
 "nbformat": 4,
 "nbformat_minor": 5
}
