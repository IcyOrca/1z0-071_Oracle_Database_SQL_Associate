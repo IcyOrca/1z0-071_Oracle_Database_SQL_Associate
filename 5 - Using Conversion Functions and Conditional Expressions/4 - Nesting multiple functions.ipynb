{
 "cells": [
  {
   "cell_type": "markdown",
   "id": "b85b76b1-b51e-46ff-8472-a914cb87f312",
   "metadata": {},
   "source": [
    "<h1>Nesting Multiple Functions</h1>"
   ]
  },
  {
   "cell_type": "markdown",
   "id": "06738cb5",
   "metadata": {},
   "source": [
    "<h3>Introduction</h3>\n",
    "\n",
    "<strong>Nesting multiple functions in SQL allows users to combine the output of one function as the input to another, enabling complex data transformations and analyses.\n",
    "<br>This technique is powerful for manipulating data, especially when formatting or aggregating information.</strong>"
   ]
  },
  {
   "cell_type": "markdown",
   "id": "bc3ebaf7",
   "metadata": {},
   "source": [
    "<h3>What is Function Nesting?</h3>\n",
    "\n",
    "<strong>For instance, you may want to format a number to a specific decimal place and then convert it to a string for display.\n",
    "<br>This can be achieved by nesting the ROUND function inside the TO_CHAR function:</strong>\n",
    "\n",
    "<strong>Example:</strong> \n",
    "\n",
    "    SELECT TO_CHAR(ROUND(salary, 2), 'FM999,999.00') AS \"Formatted Salary\" FROM employees;\n",
    "\n",
    "In this example, if the salary column is a numeric type and the comparison is made against a string, the database will convert the string '50000' to a number."
   ]
  },
  {
   "cell_type": "markdown",
   "id": "4e02d40c",
   "metadata": {},
   "source": [
    "<h3>Explicit Data Type Conversion</h3>\n",
    "\n",
    "<strong>Explicit data type conversion requires the user to specify the conversion using a conversion function such as TO_CHAR, TO_NUMBER, or TO_DATE.\n",
    "<br>This type of conversion is intentional and provides greater control over how data is transformed, ensuring that the output is formatted as desired.</strong>\n",
    "\n",
    "<strong>Example:</strong> To convert a string representation of a number into a numeric type, you would use the TO_NUMBER function:\n",
    "    \n",
    "    SELECT employee_id, TO_NUMBER('50000') AS \"Salary\" FROM dual;"
   ]
  },
  {
   "cell_type": "markdown",
   "id": "a4189af8",
   "metadata": {},
   "source": [
    "<strong>Practical Use Cases:</strong>\n",
    "\n",
    "    Using Implicit Conversion: Implicit conversion can simplify queries, as seen in comparisons and \n",
    "    arithmetic operations without needing conversion functions. \n",
    "    However, be cautious about relying on it, as it may lead to unexpected results.\n",
    "\n",
    "    Using Explicit Conversion: Always use explicit conversion when you need precise control over data formats. \n",
    "    This is especially important in reports and data analysis, where formatting is critical.\n",
    "\n",
    "<strong>Best Practices:</strong>\n",
    "\n",
    "    Be aware of implicit conversions and their potential impact on query results. Testing and validating \n",
    "    queries is essential.\n",
    "    Use explicit conversions when the automatic conversion might lead to confusion or errors, ensuring \n",
    "    clarity and accuracy in data handling.\n",
    "    Document conversion logic in complex queries for better maintainability and understanding by \n",
    "    other developers or analysts."
   ]
  }
 ],
 "metadata": {
  "kernelspec": {
   "display_name": "Python 3 (ipykernel)",
   "language": "python",
   "name": "python3"
  },
  "language_info": {
   "codemirror_mode": {
    "name": "ipython",
    "version": 3
   },
   "file_extension": ".py",
   "mimetype": "text/x-python",
   "name": "python",
   "nbconvert_exporter": "python",
   "pygments_lexer": "ipython3",
   "version": "3.9.12"
  }
 },
 "nbformat": 4,
 "nbformat_minor": 5
}
