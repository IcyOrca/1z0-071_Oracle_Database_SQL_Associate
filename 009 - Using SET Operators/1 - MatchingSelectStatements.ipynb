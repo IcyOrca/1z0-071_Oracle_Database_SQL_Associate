{
 "cells": [
  {
   "cell_type": "markdown",
   "id": "b85b76b1-b51e-46ff-8472-a914cb87f312",
   "metadata": {},
   "source": [
    "<h1>Matching the SELECT Statements</h1>"
   ]
  },
  {
   "cell_type": "markdown",
   "id": "06738cb5",
   "metadata": {},
   "source": [
    "<h3>Introduction</h3>\n",
    "\n",
    "<strong>When using SET operators such as UNION, INTERSECT, and MINUS, the SELECT statements being combined must be compatible. \n",
    "<br>This means that the columns selected in each query should align in both number and data type. \n",
    "<br>The structure of the SELECT statements must be identical to ensure correct output from these operations.</strong>"
   ]
  },
  {
   "cell_type": "markdown",
   "id": "bc3ebaf7",
   "metadata": {},
   "source": [
    "<h3>Key Rules for Matching SELECT Statements</h3>\n",
    "\n",
    "<strong>Same Number of Columns: </strong>Each SELECT query in the set operation must return the same number of columns.\n",
    "<br><strong>Data Types Must Be Compatible: </strong>The corresponding columns in each SELECT statement must have compatible data types, meaning they must either be the same or easily convertible.\n",
    "<br><strong>Column Names in the Final Output: </strong>The column names in the result set will be taken from the first SELECT statement, regardless of what they are named in subsequent statements.\n",
    "    \n",
    "<strong>Example:</strong>\n",
    "    \n",
    "    SELECT first_name, last_name FROM employees\n",
    "    UNION\n",
    "    SELECT first_name, last_name FROM contractors;\n",
    "    \n",
    "Both SELECT statements return two columns.\n",
    "Both first_name and last_name are character data types in both tables."
   ]
  },
  {
   "cell_type": "markdown",
   "id": "77a2a2d1",
   "metadata": {},
   "source": [
    "<h3>Handling Mismatched Data Types</h3>\n",
    "\n",
    "<strong>If the data types don’t align, you can use conversion functions such as TO_CHAR or TO_NUMBER to make the columns compatible.</strong>\n",
    "    \n",
    "<strong>Example:</strong>\n",
    "If one table stores employee IDs as VARCHAR2 and another table stores them as NUMBER, you can use TO_CHAR to ensure compatibility.\n",
    "\n",
    "    SELECT TO_CHAR(employee_id) FROM employees\n",
    "    UNION\n",
    "    SELECT employee_id FROM contractors;"
   ]
  },
  {
   "cell_type": "markdown",
   "id": "7c3e79b5",
   "metadata": {},
   "source": [
    "<h3>Column Order Matters</h3>\n",
    "\n",
    "<strong>The order in which columns appear in the SELECT statements is also important. The first column in each query will be compared, the second column with the second, and so on.</strong>\n",
    "    \n",
    "<strong>Example:</strong>\n",
    "This query will fail if the first columns are incompatible:\n",
    "\n",
    "    SELECT first_name, salary FROM employees\n",
    "    UNION\n",
    "    SELECT department_id, salary FROM contractors;"
   ]
  },
  {
   "cell_type": "markdown",
   "id": "a4189af8",
   "metadata": {},
   "source": [
    "<strong>Best Practices:</strong>\n",
    "\n",
    "    Always check that the SELECT statements being combined return the same number of columns.\n",
    "    \n",
    "    Ensure that the corresponding columns have compatible data types.\n",
    "    \n",
    "    Use conversion functions when necessary to align data types."
   ]
  }
 ],
 "metadata": {
  "kernelspec": {
   "display_name": "Python 3 (ipykernel)",
   "language": "python",
   "name": "python3"
  },
  "language_info": {
   "codemirror_mode": {
    "name": "ipython",
    "version": 3
   },
   "file_extension": ".py",
   "mimetype": "text/x-python",
   "name": "python",
   "nbconvert_exporter": "python",
   "pygments_lexer": "ipython3",
   "version": "3.9.12"
  }
 },
 "nbformat": 4,
 "nbformat_minor": 5
}
