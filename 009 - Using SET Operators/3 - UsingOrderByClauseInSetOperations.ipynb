{
 "cells": [
  {
   "cell_type": "markdown",
   "id": "b85b76b1-b51e-46ff-8472-a914cb87f312",
   "metadata": {},
   "source": [
    "<h1>Using the ORDER BY Clause in Set Operations</h1>"
   ]
  },
  {
   "cell_type": "markdown",
   "id": "06738cb5",
   "metadata": {},
   "source": [
    "<h3>Introduction</h3>\n",
    "\n",
    "<strong>In SQL, set operators such as UNION, INTERSECT, and MINUS combine the results of two or more SELECT statements. When using set operators, it is essential to control how the final result set is ordered. \n",
    "<br>The ORDER BY clause is used to specify the sorting of the final combined result after applying the set operator. \n",
    "<br>It applies to the overall result, not individual queries within the set operation.</strong>"
   ]
  },
  {
   "cell_type": "markdown",
   "id": "bc3ebaf7",
   "metadata": {},
   "source": [
    "<h3>Rules for Using ORDER BY with Set Operators</h3>\n",
    "\n",
    "<strong>The ORDER BY clause must always come at the very end of the query, after all set operations have been performed.\n",
    "<br>You can only use one ORDER BY clause per set operation. It cannot be used in individual SELECT statements before or between the set operators.\n",
    "<br>The columns specified in the ORDER BY clause must exist in the combined result set, meaning they must be part of the SELECT statement(s).</strong>\n",
    "\n",
    "<strong>Syntax: </strong>\n",
    "\n",
    "    SELECT column1, column2 FROM table1\n",
    "    UNION\n",
    "    SELECT column1, column2 FROM table2\n",
    "    ORDER BY column1 [ASC|DESC]\n",
    "           , column2 [ASC|DESC];\n",
    "\n",
    "column1 and column2 are columns that exist in both SELECT queries.\n",
    "The ORDER BY clause is applied after the set operation (in this case, UNION), and it will sort the final result set."
   ]
  },
  {
   "cell_type": "markdown",
   "id": "a4189af8",
   "metadata": {},
   "source": [
    "<strong>Practical Use Cases:</strong>\n",
    "\n",
    "    Sorting results after combining tables: If you’re using UNION, INTERSECT, or MINUS, and need the combined results ordered by a specific column.\n",
    "    \n",
    "    Displaying top results: In scenarios where set operators are used to combine data from multiple tables, using ORDER BY allows you to sort and, optionally, limit the results (e.g., to display the top 10 records).\n",
    "\n",
    "<strong>Best Practices:</strong>\n",
    "\n",
    "    Choose meaningful columns: When using ORDER BY, choose columns that are relevant to the combined result set. Make sure those columns exist in both queries.\n",
    "    \n",
    "    Always apply ORDER BY to the final result: You cannot sort individual SELECT statements in a set operation. The sorting happens only after the entire set operation is complete.\n",
    "    \n",
    "    Be mindful of performance: Sorting large datasets can be resource-intensive. Apply ORDER BY only when necessary and on indexed columns where possible to improve performance."
   ]
  }
 ],
 "metadata": {
  "kernelspec": {
   "display_name": "Python 3 (ipykernel)",
   "language": "python",
   "name": "python3"
  },
  "language_info": {
   "codemirror_mode": {
    "name": "ipython",
    "version": 3
   },
   "file_extension": ".py",
   "mimetype": "text/x-python",
   "name": "python",
   "nbconvert_exporter": "python",
   "pygments_lexer": "ipython3",
   "version": "3.9.12"
  }
 },
 "nbformat": 4,
 "nbformat_minor": 5
}
