{
 "cells": [
  {
   "cell_type": "markdown",
   "id": "b85b76b1-b51e-46ff-8472-a914cb87f312",
   "metadata": {},
   "source": [
    "<h1>Using the UNION and UNION ALL Operators</h1>"
   ]
  },
  {
   "cell_type": "markdown",
   "id": "06738cb5",
   "metadata": {},
   "source": [
    "<h3>Introduction</h3>\n",
    "\n",
    "<strong>The INTERSECT operator in SQL is used to return the common records from two or more SELECT statements. \n",
    "<br>It only returns rows that appear in both result sets, making it useful when you need to find overlapping data between multiple queries.</strong>\n",
    "\n",
    "<strong>Unlike UNION or UNION ALL, INTERSECT focuses exclusively on matching rows and eliminates duplicates automatically.</strong>\n",
    "\n",
    "    UNION: Removes duplicate rows from the final result set.\n",
    "    UNION ALL: Includes all rows from the combined result set, including duplicates.\n",
    "\n",
    "<strong>Syntax: </strong>\n",
    "\n",
    "    SELECT column1, column2 FROM table1\n",
    "    INTERSECT\n",
    "    SELECT column1, column2 FROM table2;"
   ]
  },
  {
   "cell_type": "markdown",
   "id": "a3e7ae87",
   "metadata": {},
   "source": [
    "<h3>Key Points and Rules</h3>\n",
    "\n",
    "<strong>Duplicates: </strong>Like UNION, the INTERSECT operator automatically removes duplicate rows from the final result set.\n",
    "\n",
    "<br><strong>Column Matching: </strong>The number of columns in each SELECT statement must match. Additionally, the data types of the columns in the SELECT statements must be compatible.\n",
    "<br><strong>For example, trying to INTERSECT a query where one result set returns integers and the other returns strings will result in an error.</strong>\n",
    "\n",
    "<strong>Null Handling: </strong>Rows containing NULL values are treated as distinct from non-null values. If both result sets contain NULL in the same column, the row with NULL will appear in the final result."
   ]
  },
  {
   "cell_type": "markdown",
   "id": "a4189af8",
   "metadata": {},
   "source": [
    "<strong>Practical Use Cases:</strong>\n",
    "\n",
    "    Finding Common Data: Use INTERSECT when you need to find rows that are present in both result sets, such as identifying customers or employees who exist in multiple databases.\n",
    "    \n",
    "    Checking for Overlaps: It’s effective when you want to verify that two queries yield overlapping results, such as finding products that are listed in multiple catalogs.\n",
    "\n",
    "<strong>Best Practices:</strong>\n",
    "\n",
    "    Column Selection: Always ensure the columns in both SELECT statements match in number and data type.\n",
    "\n",
    "    Performance Consideration: Since INTERSECT compares the result sets for common data, large result sets can impact performance. Use indexes where appropriate.\n",
    "\n",
    "    Specificity: Be precise about the columns you want to compare. The fewer columns involved, the quicker the query execution."
   ]
  }
 ],
 "metadata": {
  "kernelspec": {
   "display_name": "Python 3 (ipykernel)",
   "language": "python",
   "name": "python3"
  },
  "language_info": {
   "codemirror_mode": {
    "name": "ipython",
    "version": 3
   },
   "file_extension": ".py",
   "mimetype": "text/x-python",
   "name": "python",
   "nbconvert_exporter": "python",
   "pygments_lexer": "ipython3",
   "version": "3.9.12"
  }
 },
 "nbformat": 4,
 "nbformat_minor": 5
}
