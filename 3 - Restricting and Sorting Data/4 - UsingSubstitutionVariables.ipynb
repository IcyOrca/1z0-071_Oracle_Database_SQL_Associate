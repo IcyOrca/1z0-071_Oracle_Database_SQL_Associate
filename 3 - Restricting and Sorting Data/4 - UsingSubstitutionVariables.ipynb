{
 "cells": [
  {
   "cell_type": "markdown",
   "id": "b85b76b1-b51e-46ff-8472-a914cb87f312",
   "metadata": {},
   "source": [
    "<h1>Using Substitution Variables</h1>"
   ]
  },
  {
   "cell_type": "markdown",
   "id": "531972d7-b93b-47b3-a410-8d3313864657",
   "metadata": {},
   "source": [
    "<h3>Introduction</h3>\n",
    "\n",
    "<strong>Substitution variables allow users to dynamically input values at runtime, making SQL scripts more flexible and interactive. \n",
    "<br>These variables are placeholders that prompt for user input when the query is executed. \n",
    "<br>This feature is particularly useful for generating reports or queries that require user-specified criteria each time they run.</strong>"
   ]
  },
  {
   "cell_type": "markdown",
   "id": "7c172862-43d2-4141-8044-1c324f942002",
   "metadata": {},
   "source": [
    "<h3>How Substitution Variables Work</h3>\n",
    "\n",
    "    Substitution variables are often represented by an ampersand (&) followed by the variable name.\n",
    "    When the query runs, SQL*Plus or SQL Developer prompts the user to input a value for each variable.\n",
    "    The entered value replaces the variable in the query for that particular execution.\n",
    "\n",
    "<strong>Basic Syntax:</strong>\n",
    "\n",
    "    You can create substitution variables by using &variable_name within your query.\n",
    "    \n",
    "<strong>Example:</strong> to query employees based on a specific department, you can use a substitution variable:\n",
    "\n",
    "    SELECT first_name, last_name, salary FROM employees WHERE department_id = &dept_id;\n",
    "\n",
    "When executed, the user will be prompted to input a department ID. This value will be used in place of &dept_id in the query."
   ]
  },
  {
   "cell_type": "markdown",
   "id": "974a2ffd",
   "metadata": {},
   "source": [
    "<h3>Using Double Ampersands for Persistent Values</h3>\n",
    "\n",
    "<strong>A double ampersand (&&) can be used to define a persistent substitution variable. \n",
    "<br>This means that once a value is provided, it is reused throughout the session without prompting again.</strong>\n",
    "\n",
    "<strong>Example:</strong>\n",
    "\n",
    "    SELECT first_name, last_name, salary FROM employees WHERE department_id = &&dept_id;\n",
    "\n",
    "If you enter a value for &&dept_id, it will be used for the remainder of the session until it is redefined or the session ends."
   ]
  },
  {
   "cell_type": "markdown",
   "id": "06738cb5",
   "metadata": {},
   "source": [
    "<h3>Customizing Prompts with ACCEPT Command</h3>\n",
    "\n",
    "<strong>The ACCEPT command can be used to control how substitution variables prompt users for input, which is especially useful in SQL*Plus.</strong>\n",
    "\n",
    "<strong>Example:</strong>\n",
    "\n",
    "    ACCEPT dept_id PROMPT 'Enter Department ID: '\n",
    "    SELECT first_name, last_name, salary FROM employees WHERE department_id = &dept_id;\n",
    "\n",
    "This query will display “Enter Department ID:” as a prompt, making the input request more user-friendly."
   ]
  },
  {
   "cell_type": "markdown",
   "id": "a4189af8",
   "metadata": {},
   "source": [
    "<strong>Practical Use Cases:</strong>\n",
    "\n",
    "    Dynamic Reporting: Substitution variables allow you to generate dynamic reports by changing \n",
    "    filter criteria on the fly.\n",
    "    Reusable Scripts: By embedding substitution variables, you can create SQL scripts that work \n",
    "    with various inputs without modifying the query.\n",
    "\n",
    "<strong>Best Practices:</strong>\n",
    "\n",
    "    Use descriptive variable names to make it clear what input is expected.\n",
    "    Test your scripts to ensure variables work as intended, and provide meaningful prompts \n",
    "    for user input.\n",
    "    Double-check data types; ensure that the user inputs are compatible with the expected data type \n",
    "    in the query."
   ]
  }
 ],
 "metadata": {
  "kernelspec": {
   "display_name": "Python 3 (ipykernel)",
   "language": "python",
   "name": "python3"
  },
  "language_info": {
   "codemirror_mode": {
    "name": "ipython",
    "version": 3
   },
   "file_extension": ".py",
   "mimetype": "text/x-python",
   "name": "python",
   "nbconvert_exporter": "python",
   "pygments_lexer": "ipython3",
   "version": "3.9.12"
  }
 },
 "nbformat": 4,
 "nbformat_minor": 5
}
