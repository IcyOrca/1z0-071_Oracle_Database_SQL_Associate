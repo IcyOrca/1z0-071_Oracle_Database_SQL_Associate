{
 "cells": [
  {
   "cell_type": "markdown",
   "id": "b85b76b1-b51e-46ff-8472-a914cb87f312",
   "metadata": {},
   "source": [
    "<h1>Limiting Rows Returned in a SQL Statement</h1>"
   ]
  },
  {
   "cell_type": "markdown",
   "id": "531972d7-b93b-47b3-a410-8d3313864657",
   "metadata": {},
   "source": [
    "<h3>Introduction</h3>\n",
    "\n",
    "<strong>Limiting the number of rows returned in a SQL statement is crucial for performance optimization and effective data management. \n",
    "<br>It helps retrieve only the necessary data, which can improve query execution time and reduce resource consumption.</strong>"
   ]
  },
  {
   "cell_type": "markdown",
   "id": "7c172862-43d2-4141-8044-1c324f942002",
   "metadata": {},
   "source": [
    "<h3>Using the ROWNUM Pseudocolumn</h3>\n",
    "\n",
    "<strong>In Oracle SQL, the ROWNUM pseudocolumn can be used to limit the number of rows returned by a query. \n",
    "<br>It assigns a unique number to each row returned by a query, starting with 1 for the first row.</strong>\n",
    "<br><br><strong>Example:</strong> to retrieve the first 5 employees from the employees table, you might write:\n",
    "\n",
    "    SELECT * FROM employees WHERE ROWNUM <= 5;"
   ]
  },
  {
   "cell_type": "markdown",
   "id": "da437a7e",
   "metadata": {},
   "source": [
    "<h3>Using the FETCH FIRST Clause (Oracle 12c and Later)</h3>\n",
    "\n",
    "<strong>In Oracle 12c and later, you can use the FETCH FIRST clause for limiting rows, which offers a more intuitive syntax for limiting results.</strong>\n",
    "<br><br><strong>Example:</strong> to retrieve the top 5 highest-paid employees:\n",
    "\n",
    "    SELECT * FROM employees ORDER BY salary DESC FETCH FIRST 5 ROWS ONLY;"
   ]
  },
  {
   "cell_type": "markdown",
   "id": "b8596ca8",
   "metadata": {},
   "source": [
    "<h3>Using the OFFSET and FETCH Clauses</h3>\n",
    "\n",
    "<strong>The OFFSET and FETCH clauses allow for pagination of results, providing control over which rows are returned based on their position in the result set.</strong>\n",
    "<br><br><strong>Example:</strong> to skip the first 10 rows and return the next 5 employees:\n",
    "\n",
    "    SELECT * FROM employees ORDER BY employee_id OFFSET 10 ROWS FETCH NEXT 5 ROWS ONLY;"
   ]
  },
  {
   "cell_type": "markdown",
   "id": "974a2ffd",
   "metadata": {},
   "source": [
    "<strong>Practical Use:</strong>\n",
    "\n",
    "    Limiting rows returned is particularly useful in scenarios like report generation or user interfaces.\n",
    "    It enhances performance and user experience by providing only the relevant data.\n",
    "\n",
    "<strong>Best Practices:</strong>\n",
    "\n",
    "    Use ROWNUM for simple limits when working with older Oracle versions.\n",
    "    Prefer FETCH FIRST or OFFSET/FETCH for clearer syntax and pagination control in modern applications.\n",
    "    Always combine row limiting with ORDER BY to ensure predictable results."
   ]
  }
 ],
 "metadata": {
  "kernelspec": {
   "display_name": "Python 3 (ipykernel)",
   "language": "python",
   "name": "python3"
  },
  "language_info": {
   "codemirror_mode": {
    "name": "ipython",
    "version": 3
   },
   "file_extension": ".py",
   "mimetype": "text/x-python",
   "name": "python",
   "nbconvert_exporter": "python",
   "pygments_lexer": "ipython3",
   "version": "3.9.12"
  }
 },
 "nbformat": 4,
 "nbformat_minor": 5
}
