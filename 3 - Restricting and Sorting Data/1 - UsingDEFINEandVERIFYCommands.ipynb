{
 "cells": [
  {
   "cell_type": "markdown",
   "id": "b85b76b1-b51e-46ff-8472-a914cb87f312",
   "metadata": {},
   "source": [
    "<h1>Using Arithmetic Expressions and NULL Values in the SELECT Statement</h1>"
   ]
  },
  {
   "cell_type": "markdown",
   "id": "531972d7-b93b-47b3-a410-8d3313864657",
   "metadata": {},
   "source": [
    "<h3>Introduction</h3>\n",
    "\n",
    "<strong>The DEFINE and VERIFY commands are essential for managing and manipulating variables in SQL*Plus, a command-line interface for Oracle Database. \n",
    "<br>These commands help improve productivity and enhance the efficiency of writing SQL scripts.</strong>"
   ]
  },
  {
   "cell_type": "markdown",
   "id": "7c172862-43d2-4141-8044-1c324f942002",
   "metadata": {},
   "source": [
    "<h3>DEFINE Command</h3>\n",
    "\n",
    "<strong>The DEFINE command allows you to create and assign values to substitution variables in SQL*Plus. \n",
    "<br>These variables can then be used within your SQL statements and scripts.</strong>\n",
    "<br><br><strong>Syntax:</strong>\n",
    "\n",
    "    DEFINE variable_name = value\n",
    "    \n",
    "<strong>Example:</strong> to define a variable for a department ID, you might use:\n",
    "\n",
    "    DEFINE dept_id = 10\n",
    "\n",
    "You can reference this variable in your queries:\n",
    "\n",
    "    SELECT * FROM employees WHERE department_id = &dept_id;\n",
    "    \n",
    "When executed, SQL*Plus prompts you to replace &dept_id with the value you defined (10)."
   ]
  },
  {
   "cell_type": "markdown",
   "id": "37b4534c",
   "metadata": {},
   "source": [
    "<h3>VERIFY Command</h3>\n",
    "\n",
    "<strong>The VERIFY command is used to control the display of substitution variables when you execute SQL statements. <br>It determines whether or not the defined variables will be displayed in the output.</strong>\n",
    "<br><br><strong>Syntax:</strong>\n",
    "\n",
    "    SET VERIFY {ON | OFF}\n",
    "    ON: Displays the substitution variable values in the output.\n",
    "    OFF: Hides the substitution variable values from the output.\n",
    "    \n",
    "<strong>Example:</strong> when you execute a query that uses substitution variables, SQL*Plus will show the variable values used in the output.\n",
    "<br>If you want to suppress the display of substitution values:\n",
    "\n",
    "    SET VERIFY OFF\n",
    "\n",
    "This is useful for cleaner output, especially when sharing reports."
   ]
  },
  {
   "cell_type": "markdown",
   "id": "974a2ffd",
   "metadata": {},
   "source": [
    "<strong>Practical Use:</strong>\n",
    "\n",
    "    Using the DEFINE and VERIFY commands effectively allows for dynamic querying and report generation. \n",
    "    They are helpful in scripts that require user input or repeated execution of similar queries.\n",
    "\n",
    "<strong>Best Practices:</strong>\n",
    "\n",
    "    Define meaningful variable names for clarity.\n",
    "    Use the VERIFY command to control output visibility based on your audience.\n",
    "    Consider using substitution variables for parameters that change frequently, promoting code reusability."
   ]
  }
 ],
 "metadata": {
  "kernelspec": {
   "display_name": "Python 3 (ipykernel)",
   "language": "python",
   "name": "python3"
  },
  "language_info": {
   "codemirror_mode": {
    "name": "ipython",
    "version": 3
   },
   "file_extension": ".py",
   "mimetype": "text/x-python",
   "name": "python",
   "nbconvert_exporter": "python",
   "pygments_lexer": "ipython3",
   "version": "3.9.12"
  }
 },
 "nbformat": 4,
 "nbformat_minor": 5
}
