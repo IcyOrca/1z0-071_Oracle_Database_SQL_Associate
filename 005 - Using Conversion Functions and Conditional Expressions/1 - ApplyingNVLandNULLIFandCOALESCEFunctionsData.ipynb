{
 "cells": [
  {
   "cell_type": "markdown",
   "id": "b85b76b1-b51e-46ff-8472-a914cb87f312",
   "metadata": {},
   "source": [
    "<h1>Applying the NVL, NULLIF, and COALESCE Functions to Data</h1>"
   ]
  },
  {
   "cell_type": "markdown",
   "id": "06738cb5",
   "metadata": {},
   "source": [
    "<h3>NVL</h3>\n",
    "\n",
    "<strong>The NVL function is used to replace NULL values with a specified value.</strong>\n",
    "<br><strong>It takes two arguments:</strong> the first is the value to check for NULL, and the second is the value to return if the first argument is NULL.\n",
    "\n",
    "<strong>Syntax:</strong>\n",
    "    \n",
    "    NVL(expression1, replacement_value)\n",
    "    \n",
    "<strong>Example:</strong>\n",
    "    \n",
    "    SELECT NVL(salary, 0) AS adjusted_salary\n",
    "      FROM employees;\n",
    "\n",
    "This query returns the salary of employees, replacing any NULL salaries with 0."
   ]
  },
  {
   "cell_type": "markdown",
   "id": "bc3ebaf7",
   "metadata": {},
   "source": [
    "<h3>NULLIF</h3>\n",
    "\n",
    "<strong>The NULLIF function returns NULL if the two expressions are equal; otherwise, it returns the first expression. \n",
    "<br>It is useful for avoiding divisions by zero or handling special cases where you want to treat certain values as NULL.</strong>\n",
    "\n",
    "<strong>Syntax:</strong>\n",
    "    \n",
    "    NULLIF(expression1, expression2)\n",
    "    \n",
    "<strong>Example:</strong>\n",
    "    \n",
    "    SELECT employee_id, NULLIF(salary, 0) AS adjusted_salary\n",
    "      FROM employees;\n",
    "\n",
    "In this query, if the salary is 0, it returns NULL; otherwise, it returns the salary."
   ]
  },
  {
   "cell_type": "markdown",
   "id": "6997d267",
   "metadata": {},
   "source": [
    "<h3>COALESCE</h3>\n",
    "\n",
    "<strong>The COALESCE function evaluates a list of expressions and returns the first non-NULL expression. \n",
    "<br>It can take multiple arguments, making it more versatile than NVL.</strong>\n",
    "\n",
    "<strong>Syntax:</strong>\n",
    "    \n",
    "    COALESCE(expression1, expression2, ..., expression_n)\n",
    "    \n",
    "<strong>Example:</strong>\n",
    "    \n",
    "    SELECT COALESCE(phone_number, mobile_number, 'No Phone') AS contact_number\n",
    "      FROM employees;\n",
    "\n",
    "This query returns the phone number if available; if not, it checks for the mobile number, and if both are NULL, it returns 'No Phone'."
   ]
  },
  {
   "cell_type": "markdown",
   "id": "a4189af8",
   "metadata": {},
   "source": [
    "<strong>Practical Use Cases:</strong>\n",
    "\n",
    "    Default Values in Reports: Use NVL to provide default values in reports where some data may be missing, ensuring clarity in outputs.\n",
    "    \n",
    "    Avoiding Errors: NULLIF can prevent errors in calculations or aggregations by safely handling cases where the divisor might be zero.\n",
    "    \n",
    "    Flexible Data Retrieval: COALESCE allows for flexible data retrieval by prioritizing different data sources.\n",
    "\n",
    "<strong>Best Practices:</strong>\n",
    "\n",
    "    Use NVL for straightforward cases where a default value is needed.\n",
    "    \n",
    "    Employ NULLIF to safeguard against zero values in calculations.\n",
    "    \n",
    "    Utilize COALESCE when dealing with multiple potential NULL sources for more comprehensive data handling."
   ]
  }
 ],
 "metadata": {
  "kernelspec": {
   "display_name": "Python 3 (ipykernel)",
   "language": "python",
   "name": "python3"
  },
  "language_info": {
   "codemirror_mode": {
    "name": "ipython",
    "version": 3
   },
   "file_extension": ".py",
   "mimetype": "text/x-python",
   "name": "python",
   "nbconvert_exporter": "python",
   "pygments_lexer": "ipython3",
   "version": "3.9.12"
  }
 },
 "nbformat": 4,
 "nbformat_minor": 5
}
