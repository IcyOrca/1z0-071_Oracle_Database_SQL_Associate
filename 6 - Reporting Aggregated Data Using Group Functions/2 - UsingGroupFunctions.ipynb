{
 "cells": [
  {
   "cell_type": "markdown",
   "id": "b85b76b1-b51e-46ff-8472-a914cb87f312",
   "metadata": {},
   "source": [
    "<h1>Using Group Functions</h1>"
   ]
  },
  {
   "cell_type": "markdown",
   "id": "06738cb5",
   "metadata": {},
   "source": [
    "<h3>Introduction</h3>\n",
    "\n",
    "<strong>Group functions in SQL are essential tools for aggregating data across multiple rows, providing summarized results for better analysis and reporting. \n",
    "<br>These functions allow users to compute values for grouped records, making them invaluable for generating insights from large datasets.</strong>"
   ]
  },
  {
   "cell_type": "markdown",
   "id": "bc3ebaf7",
   "metadata": {},
   "source": [
    "<h3>Common Group Functions</h3>\n",
    "\n",
    "<strong>Several standard group functions are widely used in SQL, including:</strong>\n",
    "\n",
    "    SUM: Calculates the total sum of a numeric column.\n",
    "    AVG: Computes the average value of a numeric column.\n",
    "    COUNT: Counts the number of rows or non-NULL values in a column.\n",
    "    MAX: Finds the highest value in a specified column.\n",
    "    MIN: Finds the lowest value in a specified column."
   ]
  },
  {
   "cell_type": "markdown",
   "id": "f2e562ee",
   "metadata": {},
   "source": [
    "<h3>Basic Syntax</h3>\n",
    "\n",
    "<strong>To use group functions effectively, you typically structure your query as follows:</strong>\n",
    "\n",
    "    SELECT column1, GROUP_FUNCTION(column2)\n",
    "      FROM table_name\n",
    "     GROUP BY column1;"
   ]
  },
  {
   "cell_type": "markdown",
   "id": "6997d267",
   "metadata": {},
   "source": [
    "<strong>Example:</strong> Summing Sales Amounts\n",
    "<br>Suppose you have a table called sales and want to calculate the total sales amount by product category. Your query might look like this:\n",
    "    \n",
    "    SELECT category, SUM(sales_amount) AS \"Total Sales\"\n",
    "      FROM sales\n",
    "     GROUP BY category;\n",
    "    \n",
    "<strong>Example:</strong> Counting Products per Category\n",
    "<br>To count how many products belong to each category:\n",
    "\n",
    "    SELECT category, COUNT(product_id) AS \"Number of Products\"\n",
    "      FROM products\n",
    "     GROUP BY category;\n",
    "\n",
    "<strong>Example:</strong> Applying AVG to Analyze Data\n",
    "<br>The AVG function allows for quick insights into the average values within each group.\n",
    "\n",
    "    SELECT department_id, AVG(salary) AS \"Average Salary\"\n",
    "      FROM employees\n",
    "     GROUP BY department_id;"
   ]
  },
  {
   "cell_type": "markdown",
   "id": "a4189af8",
   "metadata": {},
   "source": [
    "<strong>Practical Use Cases:</strong>\n",
    "\n",
    "    Sales Reporting: Summarizing sales data to understand revenue trends.\n",
    "    Employee Statistics: Calculating average salaries, total counts of employees by department, etc.\n",
    "    Inventory Analysis: Using MAX and MIN to track stock levels across product categories.\n",
    "\n",
    "<strong>Best Practices:</strong>\n",
    "\n",
    "    Always Group by Non-Aggregated Columns: Ensure that any column in the SELECT statement not \n",
    "    aggregated is included in the GROUP BY clause.\n",
    "    Descriptive Aliases for Readability: Use clear and descriptive aliases for aggregated results to \n",
    "    enhance understanding.\n",
    "    Limit the Data Set Early: Apply WHERE clauses before grouping to reduce the dataset size, improving performance."
   ]
  }
 ],
 "metadata": {
  "kernelspec": {
   "display_name": "Python 3 (ipykernel)",
   "language": "python",
   "name": "python3"
  },
  "language_info": {
   "codemirror_mode": {
    "name": "ipython",
    "version": 3
   },
   "file_extension": ".py",
   "mimetype": "text/x-python",
   "name": "python",
   "nbconvert_exporter": "python",
   "pygments_lexer": "ipython3",
   "version": "3.9.12"
  }
 },
 "nbformat": 4,
 "nbformat_minor": 5
}
