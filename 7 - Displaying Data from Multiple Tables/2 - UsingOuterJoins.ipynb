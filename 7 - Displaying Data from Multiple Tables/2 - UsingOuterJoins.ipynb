{
 "cells": [
  {
   "cell_type": "markdown",
   "id": "b85b76b1-b51e-46ff-8472-a914cb87f312",
   "metadata": {},
   "source": [
    "<h1>Using OUTER Joins</h1>"
   ]
  },
  {
   "cell_type": "markdown",
   "id": "06738cb5",
   "metadata": {},
   "source": [
    "<h3>Introduction</h3>\n",
    "\n",
    "<strong>An OUTER JOIN is a type of join that returns matched rows from two tables, plus any unmatched rows from one or both tables. \n",
    "<br>OUTER JOINS are essential for retrieving all records, not just those with direct matches, making them useful in data analysis and reporting.</strong>"
   ]
  },
  {
   "cell_type": "markdown",
   "id": "bc3ebaf7",
   "metadata": {},
   "source": [
    "<h3>Types of OUTER Joins</h3>\n",
    "\n",
    "<strong>There are three main types of OUTER JOINS in SQL:</strong>\n",
    "\n",
    "<strong>LEFT OUTER JOIN (or LEFT JOIN):</strong> Returns all records from the left table and matched records from the right table. If there’s no match, the result includes NULL for columns from the right table.\n",
    "\n",
    "    SELECT column_names\n",
    "      FROM table1\n",
    "      LEFT JOIN table2 ON table1.common_column = table2.common_column;\n",
    "\n",
    "<strong>RIGHT OUTER JOIN (or RIGHT JOIN):</strong> Returns all records from the right table and matched records from the left table. If there’s no match, the result includes NULL for columns from the left table.\n",
    "\n",
    "    SELECT column_names\n",
    "      FROM table1\n",
    "      RIGHT JOIN table2 ON table1.common_column = table2.common_column;\n",
    "\n",
    "<strong>FULL OUTER JOIN:</strong> Combines LEFT and RIGHT JOINs to return all records when there is a match in one of the tables. Unmatched rows from both tables will show NULL in place of columns from the other table.\n",
    "    \n",
    "    SELECT column_names\n",
    "      FROM table1\n",
    "      FULL OUTER JOIN table2 ON table1.common_column = table2.common_column;"
   ]
  },
  {
   "cell_type": "markdown",
   "id": "6997d267",
   "metadata": {},
   "source": [
    "<h3>When to Use OUTER Joins</h3>\n",
    "\n",
    "<strong>LEFT JOIN:</strong> Use when you want to retain all rows from the primary (left) table, regardless of matching rows in the secondary table.\n",
    "\n",
    "<strong>RIGHT JOIN:</strong> Use when all rows from the secondary (right) table are needed, along with any matches from the primary table.\n",
    "\n",
    "<strong>FULL OUTER JOIN:</strong> Use when you want all records from both tables, whether or not they match, to ensure no data is omitted.\n",
    "\n",
    "    SELECT e1.first_name AS \"Employee\", e2.first_name AS \"Manager\"\n",
    "      FROM employees e1, employees e2\n",
    "     WHERE e1.manager_id = e2.employee_id;"
   ]
  },
  {
   "cell_type": "markdown",
   "id": "a4189af8",
   "metadata": {},
   "source": [
    "<strong>Best Practices:</strong>\n",
    "\n",
    "    Select Only Necessary Columns: Specify only the columns you need, as OUTER JOINS can result in \n",
    "    large result sets.\n",
    "    Use WHERE Clause for Additional Filtering: You can combine OUTER JOINS with the WHERE clause to further \n",
    "    filter your results as needed.\n",
    "    Check for NULL Values: Since OUTER JOINS often produce NULL for unmatched records, plan for potential \n",
    "    NULL handling or replacement."
   ]
  }
 ],
 "metadata": {
  "kernelspec": {
   "display_name": "Python 3 (ipykernel)",
   "language": "python",
   "name": "python3"
  },
  "language_info": {
   "codemirror_mode": {
    "name": "ipython",
    "version": 3
   },
   "file_extension": ".py",
   "mimetype": "text/x-python",
   "name": "python",
   "nbconvert_exporter": "python",
   "pygments_lexer": "ipython3",
   "version": "3.9.12"
  }
 },
 "nbformat": 4,
 "nbformat_minor": 5
}
