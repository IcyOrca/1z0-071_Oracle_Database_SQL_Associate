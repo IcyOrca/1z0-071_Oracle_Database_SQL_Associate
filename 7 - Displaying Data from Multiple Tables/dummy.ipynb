{
 "cells": [
  {
   "cell_type": "markdown",
   "id": "b85b76b1-b51e-46ff-8472-a914cb87f312",
   "metadata": {},
   "source": [
    "<h1>Nesting Multiple Functions</h1>"
   ]
  },
  {
   "cell_type": "markdown",
   "id": "06738cb5",
   "metadata": {},
   "source": [
    "<h3>Introduction</h3>\n",
    "\n",
    "<strong>Nesting multiple functions in SQL allows users to combine the output of one function as the input to another, enabling complex data transformations and analyses.\n",
    "<br>This technique is powerful for manipulating data, especially when formatting or aggregating information.</strong>"
   ]
  },
  {
   "cell_type": "markdown",
   "id": "bc3ebaf7",
   "metadata": {},
   "source": [
    "<h3>What is Function Nesting?</h3>\n",
    "\n",
    "<strong>For instance, you may want to format a number to a specific decimal place and then convert it to a string for display.\n",
    "<br>This can be achieved by nesting the ROUND function inside the TO_CHAR function:</strong>\n",
    "\n",
    "<strong>Example:</strong> \n",
    "\n",
    "    SELECT TO_CHAR(ROUND(salary, 2), 'FM999,999.00') AS \"Formatted Salary\" FROM employees;"
   ]
  },
  {
   "cell_type": "markdown",
   "id": "a4189af8",
   "metadata": {},
   "source": [
    "<strong>Practical Use Cases:</strong>\n",
    "\n",
    "    Increased Flexibility: Nesting allows for more complex data manipulations in a single query, making \n",
    "    SQL powerful for reporting and analysis.\n",
    "    Reduced Query Complexity: It can reduce the number of intermediate steps needed, making the code \n",
    "    cleaner and easier to read.\n",
    "    Enhanced Readability: When used appropriately, nesting can make queries more straightforward by \n",
    "    eliminating the need for subqueries or temporary tables.\n",
    "\n",
    "<strong>Best Practices:</strong>\n",
    "\n",
    "    Keep It Simple: Avoid deeply nested functions that may reduce readability. Limit nesting to two or three \n",
    "    levels where possible.\n",
    "    Comment Your Code: When using nested functions, include comments explaining the purpose of the \n",
    "    nested structure to aid understanding for future readers.\n",
    "    Test Intermediate Outputs: Break down complex queries and test each function individually to ensure \n",
    "    they produce the expected results before nesting them."
   ]
  }
 ],
 "metadata": {
  "kernelspec": {
   "display_name": "Python 3 (ipykernel)",
   "language": "python",
   "name": "python3"
  },
  "language_info": {
   "codemirror_mode": {
    "name": "ipython",
    "version": 3
   },
   "file_extension": ".py",
   "mimetype": "text/x-python",
   "name": "python",
   "nbconvert_exporter": "python",
   "pygments_lexer": "ipython3",
   "version": "3.9.12"
  }
 },
 "nbformat": 4,
 "nbformat_minor": 5
}
