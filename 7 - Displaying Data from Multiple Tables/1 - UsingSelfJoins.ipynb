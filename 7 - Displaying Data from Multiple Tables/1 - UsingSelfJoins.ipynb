{
 "cells": [
  {
   "cell_type": "markdown",
   "id": "b85b76b1-b51e-46ff-8472-a914cb87f312",
   "metadata": {},
   "source": [
    "<h1>Using Self-Joins</h1>"
   ]
  },
  {
   "cell_type": "markdown",
   "id": "06738cb5",
   "metadata": {},
   "source": [
    "<h3>Introduction</h3>\n",
    "\n",
    "<strong>A self-join is a powerful SQL technique that allows a table to be joined with itself. \n",
    "<br>This is useful for comparing rows within the same table or for retrieving hierarchical data. \n",
    "<br>Self-joins can help answer complex queries where relationships exist between rows in a single table.</strong>"
   ]
  },
  {
   "cell_type": "markdown",
   "id": "bc3ebaf7",
   "metadata": {},
   "source": [
    "<h3>Understanding Self-Joins</h3>\n",
    "\n",
    "<strong>In a self-join, the same table is listed multiple times in the FROM clause. \n",
    "<br>Each instance of the table is given an alias to distinguish between the different references.</strong>\n",
    "\n",
    "<strong>Syntax:</strong>\n",
    "    \n",
    "    SELECT a.column_name, b.column_name\n",
    "      FROM table_name a, table_name b\n",
    "     WHERE a.common_field = b.common_field;"
   ]
  },
  {
   "cell_type": "markdown",
   "id": "6997d267",
   "metadata": {},
   "source": [
    "<h3>Practical Example of a Self-Join</h3>\n",
    "\n",
    "<strong>Consider an employees table that includes employee information, such as each employee's ID and their manager's ID. \n",
    "<br>To retrieve a list of employees along with their manager’s name, you could use a self-join:</strong>\n",
    "\n",
    "    SELECT e1.first_name AS \"Employee\", e2.first_name AS \"Manager\"\n",
    "      FROM employees e1, employees e2\n",
    "     WHERE e1.manager_id = e2.employee_id;\n",
    "\n",
    "<br>e1 represents the employee.\n",
    "<br>e2 represents the manager.\n",
    "<br>The join condition connects each employee to their manager based on the manager_id."
   ]
  },
  {
   "cell_type": "markdown",
   "id": "a4189af8",
   "metadata": {},
   "source": [
    "<strong>Practical Use Cases:</strong>\n",
    "\n",
    "    Hierarchical Data: Analyzing parent-child relationships, like employees and their managers.\n",
    "    Finding Duplicates: Identifying rows with similar attributes within the same table.\n",
    "    Comparative Analysis: Comparing data from different time periods stored in the same table.\n",
    "\n",
    "<strong>Best Practices:</strong>\n",
    "\n",
    "    Use Clear Aliases: Assign intuitive aliases to improve readability and understanding of your query.\n",
    "    Avoid Ambiguity: Clearly define the join condition to prevent confusion between the instances \n",
    "    of the table.\n",
    "    Performance Considerations: Be mindful of performance impacts, as self-joins can increase query \n",
    "    complexity and execution time."
   ]
  }
 ],
 "metadata": {
  "kernelspec": {
   "display_name": "Python 3 (ipykernel)",
   "language": "python",
   "name": "python3"
  },
  "language_info": {
   "codemirror_mode": {
    "name": "ipython",
    "version": 3
   },
   "file_extension": ".py",
   "mimetype": "text/x-python",
   "name": "python",
   "nbconvert_exporter": "python",
   "pygments_lexer": "ipython3",
   "version": "3.9.12"
  }
 },
 "nbformat": 4,
 "nbformat_minor": 5
}
