{
 "cells": [
  {
   "cell_type": "markdown",
   "id": "b85b76b1-b51e-46ff-8472-a914cb87f312",
   "metadata": {},
   "source": [
    "<h1>Using Single Row Subqueries</h1>"
   ]
  },
  {
   "cell_type": "markdown",
   "id": "06738cb5",
   "metadata": {},
   "source": [
    "<h3>Introduction</h3>\n",
    "\n",
    "<strong>A Single Row Subquery is a subquery (a query within a query) that returns a single row of results. \n",
    "<br>This is often used to provide a scalar value for comparison in the main query. \n",
    "<br>Single row subqueries are frequently used in WHERE, HAVING, and SELECT clauses to filter results based on a specific criterion from another table.</strong>"
   ]
  },
  {
   "cell_type": "markdown",
   "id": "bc3ebaf7",
   "metadata": {},
   "source": [
    "<h3>What is a Single Row Subquery?</h3>\n",
    "\n",
    "<strong>A subquery that returns only one row and typically one column.\n",
    "<br>It’s often paired with single-value comparison operators like =, <, >, <=, >=, and < >.\n",
    "<br>If a Single Row Subquery returns more than one row, it will result in an error because single-row operators cannot handle multiple results.</strong>\n",
    "    \n",
    "<strong>Example:</strong>\n",
    "    \n",
    "    SELECT employee_id, salary\n",
    "      FROM employees\n",
    "     WHERE salary > (SELECT salary\n",
    "                       FROM employees\n",
    "                      WHERE employee_id = 102);\n",
    "    \n",
    "The main query then compares other employees' salaries against this value."
   ]
  },
  {
   "cell_type": "markdown",
   "id": "a4189af8",
   "metadata": {},
   "source": [
    "<strong>Practical Use Cases:</strong>\n",
    "\n",
    "    Comparing Data Across Rows: Finding values based on a specific row’s data.\n",
    "    \n",
    "    Calculating Thresholds: For example, retrieving all employees who earn above a certain percentage of the maximum salary.\n",
    "    \n",
    "    Dynamic Filtering: Using conditions that are dynamically retrieved rather than statically defined.\n",
    "\n",
    "<strong>Best Practices:</strong>\n",
    "\n",
    "    Ensure Single Row Output: Only use Single Row Subqueries when you’re certain the subquery will return one row; otherwise, errors will occur.\n",
    "    \n",
    "    Check for Null Values: If the subquery result might be NULL, consider handling it with COALESCE or similar functions.\n",
    "    \n",
    "    Optimize Subqueries: Ensure that subqueries are as efficient as possible, especially if they involve large data sets or complex calculations."
   ]
  }
 ],
 "metadata": {
  "kernelspec": {
   "display_name": "Python 3 (ipykernel)",
   "language": "python",
   "name": "python3"
  },
  "language_info": {
   "codemirror_mode": {
    "name": "ipython",
    "version": 3
   },
   "file_extension": ".py",
   "mimetype": "text/x-python",
   "name": "python",
   "nbconvert_exporter": "python",
   "pygments_lexer": "ipython3",
   "version": "3.9.12"
  }
 },
 "nbformat": 4,
 "nbformat_minor": 5
}
