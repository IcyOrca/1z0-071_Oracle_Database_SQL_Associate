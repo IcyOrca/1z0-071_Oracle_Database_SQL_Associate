{
 "cells": [
  {
   "cell_type": "markdown",
   "id": "b85b76b1-b51e-46ff-8472-a914cb87f312",
   "metadata": {},
   "source": [
    "<h1>Using Non-Equijoins</h1>"
   ]
  },
  {
   "cell_type": "markdown",
   "id": "06738cb5",
   "metadata": {},
   "source": [
    "<h3>Introduction</h3>\n",
    "\n",
    "<strong>A Non-Equijoin is a type of join that uses conditions other than equality to relate rows from two tables. <br>These joins allow more flexible comparisons, such as greater than, less than, or other non-equal operators, to match rows based on ranges or other complex conditions.</strong>"
   ]
  },
  {
   "cell_type": "markdown",
   "id": "bc3ebaf7",
   "metadata": {},
   "source": [
    "<h3>What is a Non-Equijoin?</h3>\n",
    "\n",
    "<strong>In a Non-Equijoin, columns from two tables are related through operators like <, >, <=, >=, !=, or BETWEEN.\n",
    "<br>This is particularly useful when matching data within a range, such as matching employees to salary grades or sales to commission rates.</strong>\n",
    "\n",
    "<strong>Example:</strong>\n",
    "    \n",
    "    SELECT e.employee_id, e.salary, g.grade_level\n",
    "      FROM employees e, salary_grades g\n",
    "     WHERE e.salary BETWEEN g.min_salary AND g.max_salary;\n",
    "\n",
    "This matches each employee's salary to the appropriate grade level by checking if the salary falls within the range defined by min_salary and max_salary in the salary_grades table."
   ]
  },
  {
   "cell_type": "markdown",
   "id": "a4189af8",
   "metadata": {},
   "source": [
    "<strong>Practical Use Cases:</strong>\n",
    "\n",
    "    Salary Grades: Matching employee salaries to salary ranges.\n",
    "    \n",
    "    Discount Brackets: Determining discount levels based on purchase amounts.\n",
    "    \n",
    "    Age Ranges: Grouping individuals by age range for categories like child, adult, or senior.\n",
    "    \n",
    "    Commission Scales: Assigning commission rates based on sales performance tiers.\n",
    "\n",
    "<strong>Best Practices:</strong>\n",
    "\n",
    "    Ensure Efficient Use: Use Non-Equijoins in scenarios where ranges are necessary, as they can be less efficient than simple equality joins.\n",
    "    \n",
    "    Optimize with Indexes: If your Non-Equijoin condition involves indexed columns, the query can perform more efficiently, especially for large data sets.\n",
    "    \n",
    "    Combine with Other Conditions: You can use Non-Equijoins alongside AND, OR, and other clauses to refine your results."
   ]
  }
 ],
 "metadata": {
  "kernelspec": {
   "display_name": "Python 3 (ipykernel)",
   "language": "python",
   "name": "python3"
  },
  "language_info": {
   "codemirror_mode": {
    "name": "ipython",
    "version": 3
   },
   "file_extension": ".py",
   "mimetype": "text/x-python",
   "name": "python",
   "nbconvert_exporter": "python",
   "pygments_lexer": "ipython3",
   "version": "3.9.12"
  }
 },
 "nbformat": 4,
 "nbformat_minor": 5
}
