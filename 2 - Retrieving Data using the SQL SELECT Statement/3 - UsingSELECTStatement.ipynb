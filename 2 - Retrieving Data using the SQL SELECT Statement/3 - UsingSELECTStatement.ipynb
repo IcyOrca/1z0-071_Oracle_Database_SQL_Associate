{
 "cells": [
  {
   "cell_type": "markdown",
   "id": "b85b76b1-b51e-46ff-8472-a914cb87f312",
   "metadata": {},
   "source": [
    "<h1>Using The SQL SELECT Statement</h1>"
   ]
  },
  {
   "cell_type": "markdown",
   "id": "531972d7-b93b-47b3-a410-8d3313864657",
   "metadata": {},
   "source": [
    "<h3>Introduction</h3>\n",
    "\n",
    "<strong>The SQL SELECT statement is the foundational command used to query and retrieve data from a database.</strong> \n",
    "<br><strong>It allows users to specify exactly what data they want, how they want it formatted, and which tables to retrieve it from.</strong>"
   ]
  },
  {
   "cell_type": "markdown",
   "id": "872047ab-841f-43e8-bb01-415ff3e5dfd9",
   "metadata": {},
   "source": [
    "<h3>Basic Syntax of the SELECT Statement</h3>\n",
    "\n",
    "<strong>The basic syntax of the SELECT statement includes the following components:</strong>\n",
    "\n",
    "    SELECT: Specifies the columns to be retrieved.\n",
    "    FROM: Indicates the table from which to retrieve the data.\n",
    "    WHERE: (Optional) Filters records based on specified conditions.\n",
    "    ORDER BY: (Optional) Sorts the result set based on specified columns.\n",
    "\n",
    "<strong>Example Syntax:</strong>\n",
    "\n",
    "    SELECT column1\n",
    "         , column2 \n",
    "      FROM table_name \n",
    "     WHERE condition \n",
    "    ORDER BY column1;"
   ]
  },
  {
   "cell_type": "markdown",
   "id": "7c172862-43d2-4141-8044-1c324f942002",
   "metadata": {},
   "source": [
    "<h3>Selecting All Columns</h3>\n",
    "\n",
    "<strong>To select all columns from a table, use the asterisk (*) wildcard.</strong>\n",
    "<br><br><strong>Example:</strong>\n",
    "\n",
    "    SELECT * FROM employees;"
   ]
  },
  {
   "cell_type": "markdown",
   "id": "ac6a0935-4f75-487a-86aa-eeaf1361ed31",
   "metadata": {},
   "source": [
    "<h3>Selecting Specific Columns</h3>\n",
    "\n",
    "<strong>You can retrieve specific columns by listing them in the SELECT statement. \n",
    "<br>This improves performance and reduces unnecessary data retrieval.</strong>\n",
    "<br><br><strong>Example:</strong>\n",
    "\n",
    "    SELECT first_name, last_name, salary FROM employees;"
   ]
  },
  {
   "cell_type": "markdown",
   "id": "cfa1e756",
   "metadata": {},
   "source": [
    "<h3>Filtering Results with WHERE Clause</h3>\n",
    "\n",
    "<strong>The WHERE clause is used to filter records based on specific criteria. \n",
    "<br>This narrows down the result set to only include rows that meet the specified condition.</strong>\n",
    "<br><br><strong>Example:</strong>\n",
    "\n",
    "    SELECT * FROM employees WHERE salary > 50000;"
   ]
  },
  {
   "cell_type": "markdown",
   "id": "3933f315",
   "metadata": {},
   "source": [
    "<h3>Sorting Results with ORDER BY</h3>\n",
    "\n",
    "<strong>The ORDER BY clause sorts the result set based on specified columns. \n",
    "<br>By default, it sorts in ascending order but can be set to descending.</strong>\n",
    "<br><br><strong>Example:</strong>\n",
    "\n",
    "    SELECT first_name, last_name FROM employees ORDER BY last_name DESC;"
   ]
  },
  {
   "cell_type": "markdown",
   "id": "4b55b7c1",
   "metadata": {},
   "source": [
    "<h3>Using Functions in the SELECT Statement</h3>\n",
    "\n",
    "<strong>You can incorporate functions such as COUNT, AVG, SUM, etc., to perform calculations on your data.</strong>\n",
    "<br><br><strong>Example:</strong>\n",
    "\n",
    "    SELECT COUNT(*) AS \"Total Employees\" FROM employees;"
   ]
  },
  {
   "cell_type": "markdown",
   "id": "974a2ffd",
   "metadata": {},
   "source": [
    "<strong>Practical Use:</strong>\n",
    "\n",
    "    The SELECT statement is versatile and can be tailored to retrieve exactly the data needed. \n",
    "    Proper use of SELECT enhances data analysis and reporting capabilities.\n",
    "\n",
    "<strong>Best Practices:</strong>\n",
    "\n",
    "    Select only the columns needed for efficiency.\n",
    "    Use meaningful aliases for clarity.\n",
    "    Filter results early with WHERE clauses to reduce the data set size."
   ]
  }
 ],
 "metadata": {
  "kernelspec": {
   "display_name": "Python 3 (ipykernel)",
   "language": "python",
   "name": "python3"
  },
  "language_info": {
   "codemirror_mode": {
    "name": "ipython",
    "version": 3
   },
   "file_extension": ".py",
   "mimetype": "text/x-python",
   "name": "python",
   "nbconvert_exporter": "python",
   "pygments_lexer": "ipython3",
   "version": "3.9.12"
  }
 },
 "nbformat": 4,
 "nbformat_minor": 5
}
