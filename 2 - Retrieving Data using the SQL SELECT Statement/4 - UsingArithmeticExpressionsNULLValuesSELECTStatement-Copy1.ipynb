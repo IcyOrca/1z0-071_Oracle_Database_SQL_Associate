{
 "cells": [
  {
   "cell_type": "markdown",
   "id": "b85b76b1-b51e-46ff-8472-a914cb87f312",
   "metadata": {},
   "source": [
    "<h1>Using Arithmetic Expressions and NULL Values in the SELECT Statement</h1>"
   ]
  },
  {
   "cell_type": "markdown",
   "id": "531972d7-b93b-47b3-a410-8d3313864657",
   "metadata": {},
   "source": [
    "<h3>Introduction</h3>\n",
    "\n",
    "<strong>Arithmetic expressions in SQL allow you to perform calculations on numeric data. \n",
    "<br>This is useful for generating new data derived from existing values. \n",
    "<br>Additionally, handling NULL values is crucial, as they represent missing or undefined data.</strong>"
   ]
  },
  {
   "cell_type": "markdown",
   "id": "872047ab-841f-43e8-bb01-415ff3e5dfd9",
   "metadata": {},
   "source": [
    "<h3>Arithmetic Expressions</h3>\n",
    "\n",
    "<strong>Arithmetic expressions can include standard mathematical operations such as:</strong>\n",
    "   \n",
    "    addition (+)\n",
    "    subtraction (-)\n",
    "    multiplication (*)\n",
    "    division (/)\n",
    "\n",
    "<strong>You can combine columns, constants, and results of other expressions.</strong>"
   ]
  },
  {
   "cell_type": "markdown",
   "id": "7c172862-43d2-4141-8044-1c324f942002",
   "metadata": {},
   "source": [
    "<h3>Example of Arithmetic Expressions</h3>\n",
    "\n",
    "<strong>To calculate the total compensation for employees, you can add their salary and bonuses</strong>\n",
    "<br><br><strong>Example:</strong>\n",
    "\n",
    "    SELECT first_name\n",
    "         , last_name\n",
    "         , salary + bonus AS \"Total Compensation\" \n",
    "      FROM employees;"
   ]
  },
  {
   "cell_type": "markdown",
   "id": "ac6a0935-4f75-487a-86aa-eeaf1361ed31",
   "metadata": {},
   "source": [
    "<h3>Order of Operations</h3>\n",
    "\n",
    "<strong>SQL follows standard mathematical rules for order of operations (parentheses, multiplication and division, addition and subtraction). \n",
    "<br>You can use parentheses to control the order in which operations are performed.</strong>"
   ]
  },
  {
   "cell_type": "markdown",
   "id": "cfa1e756",
   "metadata": {},
   "source": [
    "<h3>Handling NULL Values</h3>\n",
    "\n",
    "<strong>NULL values can complicate arithmetic operations because any arithmetic operation with NULL results in NULL. <br>It's important to manage NULL values to ensure accurate calculations.</strong>"
   ]
  },
  {
   "cell_type": "markdown",
   "id": "3933f315",
   "metadata": {},
   "source": [
    "<h3>Using NVL Function</h3>\n",
    "\n",
    "<strong>The NVL function allows you to replace NULL values with a specified value. \n",
    "<br>This can prevent unexpected NULL results in your calculations.</strong>\n",
    "<br><br><strong>Example:</strong>\n",
    "\n",
    "    SELECT first_name\n",
    "         , last_name\n",
    "         , salary + NVL(bonus, 0) AS \"Total Compensation\" \n",
    "      FROM employees;"
   ]
  },
  {
   "cell_type": "markdown",
   "id": "ea6bbbbd",
   "metadata": {},
   "source": [
    "<h3>Using COALESCE Function</h3>\n",
    "\n",
    "<strong>The COALESCE function can also be used to return the first non-null value in a list. \n",
    "<br>This is useful when dealing with multiple columns that may contain NULLs.</strong>\n",
    "<br><br><strong>Example:</strong>\n",
    "\n",
    "    SELECT first_name\n",
    "         , last_name\n",
    "         , salary + COALESCE(bonus, 0) AS \"Total Compensation\" \n",
    "      FROM employees;"
   ]
  },
  {
   "cell_type": "markdown",
   "id": "974a2ffd",
   "metadata": {},
   "source": [
    "<strong>Practical Use:</strong>\n",
    "\n",
    "    Combining arithmetic expressions with proper NULL handling allows for meaningful data insights, especially in reports and analyses.\n",
    "\n",
    "<strong>Best Practices:</strong>\n",
    "\n",
    "    Always check for NULL values when performing arithmetic operations to avoid unexpected results.\n",
    "    Use functions like NVL or COALESCE to handle NULLs gracefully.\n",
    "    Keep expressions clear and straightforward to enhance readability and maintainability."
   ]
  }
 ],
 "metadata": {
  "kernelspec": {
   "display_name": "Python 3 (ipykernel)",
   "language": "python",
   "name": "python3"
  },
  "language_info": {
   "codemirror_mode": {
    "name": "ipython",
    "version": 3
   },
   "file_extension": ".py",
   "mimetype": "text/x-python",
   "name": "python",
   "nbconvert_exporter": "python",
   "pygments_lexer": "ipython3",
   "version": "3.9.12"
  }
 },
 "nbformat": 4,
 "nbformat_minor": 5
}
