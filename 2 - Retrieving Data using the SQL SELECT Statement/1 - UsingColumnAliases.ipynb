{
 "cells": [
  {
   "cell_type": "markdown",
   "id": "b85b76b1-b51e-46ff-8472-a914cb87f312",
   "metadata": {},
   "source": [
    "<h1>Using Column Aliases</h1>"
   ]
  },
  {
   "cell_type": "markdown",
   "id": "531972d7-b93b-47b3-a410-8d3313864657",
   "metadata": {},
   "source": [
    "<h3>Introduction</h3>\n",
    "\n",
    "<strong>Column aliases</strong> are temporary names assigned to columns or expressions within the SELECT statement. <br>They help make output more readable, which is especially useful for complex expressions or columns with long names.\n",
    "\n",
    "    Aliases only exist for the duration of the query and don’t alter the actual table structure.\n",
    "    The keyword AS can be used to assign an alias, although it’s optional.\n",
    "    \n",
    "<strong>Example Syntax:</strong>\n",
    "\n",
    "    SELECT column_name AS alias_name \n",
    "      FROM table_name;"
   ]
  },
  {
   "cell_type": "markdown",
   "id": "872047ab-841f-43e8-bb01-415ff3e5dfd9",
   "metadata": {},
   "source": [
    "<h3>Basic Example of Column Aliases</h3>\n",
    "\n",
    "<strong>Imagine an employees table with columns first_name, last_name, and salary.\n",
    "<br>To display more user-friendly column names, use aliases:\n",
    "    \n",
    "    first_name becomes First Name\n",
    "    last_name becomes Last Name\n",
    "    salary becomes Monthly Salary\n",
    "\n",
    "<strong>This makes the output more understandable by making it more descriptive. \n",
    "<br>Using aliases for column names like this is very common in report generation."
   ]
  },
  {
   "cell_type": "markdown",
   "id": "7c172862-43d2-4141-8044-1c324f942002",
   "metadata": {},
   "source": [
    "<h3>Using Aliases for Expressions</h3>\n",
    "\n",
    "<strong>Column aliases are useful for labeling calculated fields.</strong>\n",
    "<br>For example, if you want to display an employee’s Annual Salary, calculated as salary * 12:\n",
    "   \n",
    "    salary * 12 becomes Annual Salary"
   ]
  },
  {
   "cell_type": "markdown",
   "id": "ac6a0935-4f75-487a-86aa-eeaf1361ed31",
   "metadata": {},
   "source": [
    "<h3>Aliases for Concatenated Columns</h3>\n",
    "\n",
    "<strong>Combining multiple columns into one output field can be done using concatenation.</strong>\n",
    "<br>For example, to create a “Full Name” column by combining first_name and last_name:\n",
    "\n",
    "    Use concat() or || to join the columns\n",
    "    Assign the result an alias like \"Full Name\"\n",
    "\n",
    "This is helpful for generating reports where you need combined information in a single column."
   ]
  },
  {
   "cell_type": "markdown",
   "id": "4a5e5cc7",
   "metadata": {},
   "source": [
    "<h3>Formatting Aliases for Readability</h3>\n",
    "\n",
    "<strong>Aliases with spaces or special characters should be enclosed in double quotes for clarity, e.g., \"Employee Name\".</strong>\n",
    "<br><strong>Without quotes, special characters may cause errors.</strong>\n",
    "\n",
    "<strong>Best Practices:</strong>\n",
    "\n",
    "    Always make aliases descriptive so the purpose of the column is clear.\n",
    "    Use double quotes if the alias contains spaces or special characters to avoid errors."
   ]
  },
  {
   "cell_type": "markdown",
   "id": "c7ba9cd2",
   "metadata": {},
   "source": [
    "<h3>Summary</h3>\n",
    "\n",
    "<strong>Clauses in SQL directly relate to ERD components:</strong>\n",
    "\n",
    "    Tables and columns in SQL map to entities and attributes in ERDs.\n",
    "    Joins in SQL represent relationships in ERDs.\n",
    "\n",
    "<strong>Using SQL and ERDs Together:</strong>\n",
    "\n",
    "    ERDs provide a roadmap, and SQL allows you to retrieve, filter, and analyze the data within this roadmap."
   ]
  }
 ],
 "metadata": {
  "kernelspec": {
   "display_name": "Python 3 (ipykernel)",
   "language": "python",
   "name": "python3"
  },
  "language_info": {
   "codemirror_mode": {
    "name": "ipython",
    "version": 3
   },
   "file_extension": ".py",
   "mimetype": "text/x-python",
   "name": "python",
   "nbconvert_exporter": "python",
   "pygments_lexer": "ipython3",
   "version": "3.9.12"
  }
 },
 "nbformat": 4,
 "nbformat_minor": 5
}
