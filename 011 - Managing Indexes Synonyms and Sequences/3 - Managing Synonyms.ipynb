{
 "cells": [
  {
   "cell_type": "markdown",
   "id": "b85b76b1-b51e-46ff-8472-a914cb87f312",
   "metadata": {},
   "source": [
    "<h1>Managing Synonyms</h1>"
   ]
  },
  {
   "cell_type": "markdown",
   "id": "06738cb5",
   "metadata": {},
   "source": [
    "<h3>Introduction</h3>\n",
    "\n",
    "<strong>A synonym in a database is an alias or alternative name for another database object, such as a table, view, sequence, or another synonym. \n",
    "<br>Synonyms provide a way to simplify SQL statements and enhance security by allowing users to access database objects without needing to know their actual names or schemas.</strong>"
   ]
  },
  {
   "cell_type": "markdown",
   "id": "bc3ebaf7",
   "metadata": {},
   "source": [
    "<h3>Types of Synonyms</h3>\n",
    "\n",
    "<strong>Public Synonyms: </strong>Accessible to all users in the database. They are created by database administrators.\n",
    "\n",
    "<strong>Private Synonyms: </strong>Accessible only to the user who created them. Each user can create synonyms that may share the same name as a public synonym without conflict."
   ]
  },
  {
   "cell_type": "markdown",
   "id": "834992b3",
   "metadata": {},
   "source": [
    "<h3>Managing Synonyms</h3>\n",
    "\n",
    "<strong>The CREATE SYNONYM statement is used to create a synonym in the database.</strong>\n",
    "    \n",
    "    CREATE [PUBLIC] SYNONYM synonym_name FOR object_name;\n",
    "\n",
    "<strong>To remove a synonym, use the DROP SYNONYM statement.</strong>\n",
    "    \n",
    "    DROP [PUBLIC] SYNONYM synonym_name;"
   ]
  },
  {
   "cell_type": "markdown",
   "id": "e6e31f87",
   "metadata": {},
   "source": [
    "<h3>Displaying Synonyms</h3>\n",
    "\n",
    "<strong>To view existing synonyms, you can query the USER_SYNONYMS, ALL_SYNONYMS, or DBA_SYNONYMS views, depending on your privileges.</strong>\n",
    "    \n",
    "<strong>To list all private synonyms for the current user:</strong>\n",
    "    \n",
    "    SELECT synonym_name, table_name\n",
    "      FROM user_synonyms;\n",
    "      \n",
    "<strong>To list all public synonyms:</strong>\n",
    "    \n",
    "    SELECT synonym_name, table_name\n",
    "      FROM all_synonyms\n",
    "     WHERE owner = 'PUBLIC';"
   ]
  },
  {
   "cell_type": "markdown",
   "id": "a4189af8",
   "metadata": {},
   "source": [
    "<strong>Best Practices:</strong>\n",
    "\n",
    "    Use Descriptive Names: Choose meaningful synonym names that reflect the purpose or content of the underlying object for better readability.\n",
    "\n",
    "    Avoid Name Conflicts: Be cautious with synonyms that may have the same name as other database objects to prevent confusion.\n",
    "\n",
    "    Regular Maintenance: Review and remove unnecessary synonyms periodically to maintain database clarity and performance."
   ]
  }
 ],
 "metadata": {
  "kernelspec": {
   "display_name": "Python 3 (ipykernel)",
   "language": "python",
   "name": "python3"
  },
  "language_info": {
   "codemirror_mode": {
    "name": "ipython",
    "version": 3
   },
   "file_extension": ".py",
   "mimetype": "text/x-python",
   "name": "python",
   "nbconvert_exporter": "python",
   "pygments_lexer": "ipython3",
   "version": "3.9.12"
  }
 },
 "nbformat": 4,
 "nbformat_minor": 5
}
