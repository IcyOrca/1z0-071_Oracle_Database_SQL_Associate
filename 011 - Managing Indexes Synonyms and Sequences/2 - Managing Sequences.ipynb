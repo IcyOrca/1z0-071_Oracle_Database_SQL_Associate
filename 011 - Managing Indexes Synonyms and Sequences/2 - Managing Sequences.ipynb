{
 "cells": [
  {
   "cell_type": "markdown",
   "id": "b85b76b1-b51e-46ff-8472-a914cb87f312",
   "metadata": {},
   "source": [
    "<h1>Performing Multi-Table Inserts</h1>"
   ]
  },
  {
   "cell_type": "markdown",
   "id": "06738cb5",
   "metadata": {},
   "source": [
    "<h3>Introduction</h3>\n",
    "\n",
    "<strong>A sequence is a database object that generates a sequential series of unique numbers. \n",
    "<br>Sequences are commonly used to create primary key values or to generate unique identifiers for records in a table. \n",
    "<br>They are not tied to a specific table and can be used across multiple tables.</strong>"
   ]
  },
  {
   "cell_type": "markdown",
   "id": "bc3ebaf7",
   "metadata": {},
   "source": [
    "<h3>Understanding Sequences</h3>\n",
    "\n",
    "<strong>A sequence provides the following features: </strong>\n",
    "    \n",
    "    Incrementing Values: Each time a sequence is referenced, it can generate the next value in a defined increment.\n",
    "    Cache: Sequences can cache a specified number of sequence numbers in memory for performance improvements.\n",
    "    Cycle: Sequences can be defined to restart from the beginning after reaching a maximum value."
   ]
  },
  {
   "cell_type": "markdown",
   "id": "bb76bc48",
   "metadata": {},
   "source": [
    "<h3>Managing Sequences</h3>\n",
    "\n",
    "<strong>The CREATE SEQUENCE statement is used to create a sequence in the database.</strong>\n",
    "\n",
    "    CREATE SEQUENCE sequence_name\n",
    "    START WITH initial_value\n",
    "    INCREMENT BY increment_value\n",
    "    MINVALUE minimum_value\n",
    "    MAXVALUE maximum_value\n",
    "    CYCLE | NOCYCLE\n",
    "    CACHE cache_size;\n",
    "\n",
    "<strong>To remove a sequence from the database, use the DROP SEQUENCE statement.</strong>\n",
    "    \n",
    "    DROP SEQUENCE sequence_name;\n",
    "    \n",
    "<strong>You can modify an existing sequence using the ALTER SEQUENCE statement.</strong>\n",
    "    \n",
    "    ALTER SEQUENCE sequence_name\n",
    "    INCREMENT BY new_increment_value\n",
    "    MINVALUE new_minimum_value\n",
    "    MAXVALUE new_maximum_value\n",
    "    CYCLE | NOCYCLE\n",
    "    CACHE new_cache_size;\n",
    "\n",
    "<strong>To get the next value from the emp_seq sequence:</strong>\n",
    "    \n",
    "    SELECT seq.NEXTVAL FROM dual;"
   ]
  },
  {
   "cell_type": "markdown",
   "id": "a4189af8",
   "metadata": {},
   "source": [
    "<strong>Best Practices:</strong>\n",
    "\n",
    "    Avoid Gaps: Be aware that if a transaction fails after calling NEXTVAL, the sequence will still increment, potentially creating gaps in the generated numbers.\n",
    "\n",
    "    Use Caching Wisely: While caching can improve performance, be cautious when setting the cache size to avoid losing many numbers in case of a system failure.\n",
    "\n",
    "    Manage Privileges: Ensure that appropriate permissions are granted for users who need to access or modify sequences."
   ]
  }
 ],
 "metadata": {
  "kernelspec": {
   "display_name": "Python 3 (ipykernel)",
   "language": "python",
   "name": "python3"
  },
  "language_info": {
   "codemirror_mode": {
    "name": "ipython",
    "version": 3
   },
   "file_extension": ".py",
   "mimetype": "text/x-python",
   "name": "python",
   "nbconvert_exporter": "python",
   "pygments_lexer": "ipython3",
   "version": "3.9.12"
  }
 },
 "nbformat": 4,
 "nbformat_minor": 5
}
