{
 "cells": [
  {
   "cell_type": "markdown",
   "id": "b85b76b1-b51e-46ff-8472-a914cb87f312",
   "metadata": {},
   "source": [
    "<h1>Managing Indexes</h1>"
   ]
  },
  {
   "cell_type": "markdown",
   "id": "06738cb5",
   "metadata": {},
   "source": [
    "<h3>Introduction</h3>\n",
    "\n",
    "<strong>Indexes are database objects that improve the speed of data retrieval operations on a database table at the cost of additional space and potential performance impact on data modification operations. \n",
    "<br>They can be created on one or more columns of a table, allowing for faster searches, sorting, and filtering of data.</strong>"
   ]
  },
  {
   "cell_type": "markdown",
   "id": "bc3ebaf7",
   "metadata": {},
   "source": [
    "<h3>Understanding Indexes</h3>\n",
    "\n",
    "<strong>Indexes function similarly to the index of a book, allowing the database to quickly locate the data without scanning the entire table.</strong>\n",
    "\n",
    "<strong>Types of Indexes: </strong>\n",
    "\n",
    "    Single-column Index: Created on a single column of a table.\n",
    "    Composite Index: Created on multiple columns of a table.\n",
    "    Unique Index: Ensures that all values in the index are distinct.\n",
    "    Bitmap Index: Efficient for columns with a low number of distinct values."
   ]
  },
  {
   "cell_type": "markdown",
   "id": "0af7988f",
   "metadata": {},
   "source": [
    "<h3>Managing Indexes</h3>\n",
    "\n",
    "<strong>To create an index on a column, use the CREATE INDEX statement.</strong>\n",
    "\n",
    "    CREATE INDEX index_name ON table_name (column1, column2);\n",
    "    \n",
    "<strong>To remove an index from a table, use the DROP INDEX statement.</strong>\n",
    "\n",
    "    DROP INDEX index_name;\n",
    "    \n",
    "<strong>To view existing indexes on a table, you can query the data dictionary.</strong>\n",
    "\n",
    "    SELECT index_name, column_name\n",
    "      FROM user_ind_columns\n",
    "     WHERE table_name = 'table_name';"
   ]
  },
  {
   "cell_type": "markdown",
   "id": "a4189af8",
   "metadata": {},
   "source": [
    "<strong>Best Practices:</strong>\n",
    "\n",
    "    Use Indexes Wisely: Avoid over-indexing, as it can slow down INSERT, UPDATE, and DELETE operations. Indexes consume additional disk space and require maintenance.\n",
    "\n",
    "    Choose Columns Carefully: Index columns that are frequently used in WHERE clauses, JOIN conditions, or as sorting columns in ORDER BY clauses.\n",
    "\n",
    "    Monitor Index Usage: Regularly check index performance and usage statistics to determine if indexes are effectively improving query performance.\n",
    "\n",
    "    Consider Composite Indexes: When queries involve multiple columns, creating composite indexes can significantly enhance performance."
   ]
  }
 ],
 "metadata": {
  "kernelspec": {
   "display_name": "Python 3 (ipykernel)",
   "language": "python",
   "name": "python3"
  },
  "language_info": {
   "codemirror_mode": {
    "name": "ipython",
    "version": 3
   },
   "file_extension": ".py",
   "mimetype": "text/x-python",
   "name": "python",
   "nbconvert_exporter": "python",
   "pygments_lexer": "ipython3",
   "version": "3.9.12"
  }
 },
 "nbformat": 4,
 "nbformat_minor": 5
}
