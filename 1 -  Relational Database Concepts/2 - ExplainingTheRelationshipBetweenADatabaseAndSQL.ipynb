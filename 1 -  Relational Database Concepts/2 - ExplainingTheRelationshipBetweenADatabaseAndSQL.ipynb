{
 "cells": [
  {
   "cell_type": "markdown",
   "id": "b85b76b1-b51e-46ff-8472-a914cb87f312",
   "metadata": {},
   "source": [
    "<h1>Explaining the Relationship Between a Database and SQL</h1>"
   ]
  },
  {
   "cell_type": "markdown",
   "id": "531972d7-b93b-47b3-a410-8d3313864657",
   "metadata": {},
   "source": [
    "<h3>Introduction to Relational Databases</h3>\n",
    "\n",
    "<strong>Definition of a Database:</strong> A collection of data organized for quick search and retrieval.\n",
    "<br><strong>Purpose of Databases:</strong> Efficiently store, manage, and retrieve large volumes of data.\n",
    "<br><strong>Types of Databases:</strong>\n",
    "    \n",
    "    Relational Databases (SQL-based)\n",
    "    Non-relational Databases (NoSQL-based)"
   ]
  },
  {
   "cell_type": "markdown",
   "id": "872047ab-841f-43e8-bb01-415ff3e5dfd9",
   "metadata": {},
   "source": [
    "<h3>What is SQL?</h3>\n",
    "\n",
    "<strong>Definition:</strong> SQL (Structured Query Language) is the standard language for interacting with relational databases.\n",
    "<br><strong>Purpose of SQL:</strong> Enables users to create, read, update, and delete data stored in relational databases (CRUD operations).\n",
    "<br><strong>Components of SQL:</strong>\n",
    "\n",
    "    Data Query Language (DQL): Queries data from the database (e.g., SELECT).\n",
    "    Data Definition Language (DDL): Defines and manages database objects (e.g., CREATE, ALTER, DROP).\n",
    "    Data Manipulation Language (DML): Manipulates data in existing tables (e.g., INSERT, UPDATE, DELETE).\n",
    "    Data Control Language (DCL): Controls access to the data (e.g., GRANT, REVOKE).\n",
    "    Transaction Control Language (TCL): Manages transactions (e.g., COMMIT, ROLLBACK)."
   ]
  },
  {
   "cell_type": "markdown",
   "id": "7c172862-43d2-4141-8044-1c324f942002",
   "metadata": {},
   "source": [
    "<h3>Interactions and Flow Between SQL and a Database</h3>\n",
    "\n",
    "<strong>Data Retrieval Flow:</strong>\n",
    "    \n",
    "    A SELECT statement is issued by a user or application.\n",
    "    The database engine interprets the SQL command.\n",
    "    The engine retrieves the relevant data and returns it in tabular form.\n",
    "    \n",
    "<strong>Data Modification Flow:</strong>\n",
    "    \n",
    "    A DML command (INSERT, UPDATE, or DELETE) is issued.\n",
    "    The database engine processes the command and makes the requested changes.\n",
    "    Changes are optionally committed or rolled back.\n",
    "    \n",
    "<strong>Example Process:</strong>\n",
    "    \n",
    "    Show the SQL syntax and the resulting data effect for CREATE TABLE, INSERT INTO, and SELECT commands.\n",
    "    Emphasize the importance of committing transactions with TCL for data persistence.\n",
    "    \n",
    "<strong>SQL Commands Executed on the Database Engine:</strong>\n",
    "    \n",
    "    SQL code is processed by the database engine, which then directly affects the data stored within tables.\n",
    "    Show how SQL is interpreted by the query optimizer to execute in the most efficient way possible."
   ]
  },
  {
   "cell_type": "markdown",
   "id": "ac6a0935-4f75-487a-86aa-eeaf1361ed31",
   "metadata": {},
   "source": [
    "<h3>SQL in the Context of Oracle Databases</h3>\n",
    "\n",
    "<strong>Oracle-Specific SQL Extensions:</strong> Briefly mention Oracle-specific SQL commands like MERGE and proprietary functions.\n",
    "<br><strong>PL/SQL:</strong> Introduce how Oracle’s PL/SQL extends SQL to include procedural logic (loops, conditional statements).\n",
    "<br><strong>Dynamic Performance Views:</strong> SQL commands allow users to query views like \"VSESSION\" and \"VINSTANCE\" to monitor the database.\n",
    "<br><strong>SQL Execution and Optimization:</strong>\n",
    "    \n",
    "    Query Optimizer: How Oracle uses the optimizer to determine the most efficient way to execute SQL queries.\n",
    "    Execution Plans: How the optimizer produces an execution plan that guides how SQL queries access data."
   ]
  },
  {
   "cell_type": "markdown",
   "id": "143af4d7",
   "metadata": {},
   "source": [
    "<h3>Practical Example</h3>\n",
    "\n",
    "<strong>Setting Up a Simple Database:</strong>\n",
    "\n",
    "    Example commands to create a database, table, insert records, and retrieve data using SQL.\n",
    "\n",
    "<strong>Sample Queries:</strong>\n",
    "\n",
    "    Using SQL commands (CREATE TABLE, INSERT, SELECT, UPDATE, DELETE) to demonstrate CRUD operations.\n",
    "\n",
    "<strong>ommon SQL Scenarios:</strong>\n",
    "\n",
    "    Running an SQL query to pull customer data from a customer database.\n",
    "    Using SQL to update a product price based on specified conditions.\n",
    "    Deleting old records to manage database size."
   ]
  },
  {
   "cell_type": "code",
   "execution_count": null,
   "id": "f27f5d73",
   "metadata": {},
   "outputs": [],
   "source": []
  }
 ],
 "metadata": {
  "kernelspec": {
   "display_name": "Python 3 (ipykernel)",
   "language": "python",
   "name": "python3"
  },
  "language_info": {
   "codemirror_mode": {
    "name": "ipython",
    "version": 3
   },
   "file_extension": ".py",
   "mimetype": "text/x-python",
   "name": "python",
   "nbconvert_exporter": "python",
   "pygments_lexer": "ipython3",
   "version": "3.9.12"
  }
 },
 "nbformat": 4,
 "nbformat_minor": 5
}
