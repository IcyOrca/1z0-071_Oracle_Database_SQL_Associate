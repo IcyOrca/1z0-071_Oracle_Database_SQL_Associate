{
 "cells": [
  {
   "cell_type": "markdown",
   "id": "b85b76b1-b51e-46ff-8472-a914cb87f312",
   "metadata": {},
   "source": [
    "<h1>Explaining the Theoretical and Physical Aspects of a Relational Database</h1>"
   ]
  },
  {
   "cell_type": "markdown",
   "id": "531972d7-b93b-47b3-a410-8d3313864657",
   "metadata": {},
   "source": [
    "<h3>Introduction to Relational Databases</h3>\n",
    "\n",
    "<strong>Definition:</strong> Describe what a relational database is – a database structured to recognize relations among stored items of information.\n",
    "<br><strong>History:</strong> Briefly mention E.F. Codd's development of the relational model.\n",
    "<br><strong>Core Concepts:</strong>\n",
    "\n",
    "    Tables (Relations): Collection of rows and columns representing data in structured formats.\n",
    "    Rows (Records): Each row represents a single item of data.\n",
    "    Columns (Attributes): Each column represents a data field common to all rows in the table.\n",
    "\n",
    "<strong>Advantages:</strong>\n",
    "\n",
    "    Data Integrity: Ensuring accuracy and consistency.\n",
    "    Data Independence: Logical data model is separated from the physical implementation.\n",
    "    Flexibility: Easy to update data, and complex queries are supported."
   ]
  },
  {
   "cell_type": "markdown",
   "id": "872047ab-841f-43e8-bb01-415ff3e5dfd9",
   "metadata": {},
   "source": [
    "<h3>Theoretical Aspects of a Relational Database</h3>\n",
    "\n",
    "<strong>Entities and Attributes:</strong> Describe what entities are (objects or things about which data is stored) and attributes (characteristics of those entities)\n",
    "\n",
    "    Primary Key: A unique identifier for rows within a table.\n",
    "    Foreign Key: A column or set of columns used to establish and enforce a link between the data in two tables.\n",
    "    \n",
    "<strong>Relationships:</strong>\n",
    "\n",
    "    One-to-One: A single row in one table is linked to a single row in another table.\n",
    "    One-to-Many: A single row in one table is linked to multiple rows in another table.\n",
    "    Many-to-Many: Multiple rows in one table are linked to multiple rows in another table, typically managed by a junction table.\n",
    "\n",
    "<strong>Data Integrity:</strong>\n",
    "\n",
    "    Entity Integrity: Each table must have a primary key, and each key must be unique and not null.\n",
    "    Referential Integrity: Foreign keys must link to a valid row in another table or be null.\n",
    "    Domain Integrity: Ensures that all data items fall within a defined domain or range.\n",
    "\n",
    "<strong>Normalization:</strong> Eliminate redundancy and ensure data dependency.\n",
    "    \n",
    "    1NF (First Normal Form): Eliminate duplicate columns and ensure each entry is atomic.\n",
    "    2NF (Second Normal Form): Build on 1NF and eliminate partial dependencies.\n",
    "    3NF (Third Normal Form): Build on 2NF and eliminate transitive dependencies.\n",
    "    Boyce-Codd Normal Form (BCNF): Stricter version of 3NF.\n",
    "    Higher Normal Forms: Brief mention for completeness."
   ]
  },
  {
   "cell_type": "markdown",
   "id": "7c172862-43d2-4141-8044-1c324f942002",
   "metadata": {},
   "source": [
    "<h3>Physical Aspects of a Relational Database</h3>\n",
    "\n",
    "<strong>Tablespaces and Data Files:</strong> Define storage at a physical level in Oracle.\n",
    "<br><strong>Blocks, Extents, and Segments:</strong>\n",
    "\n",
    "    Blocks: Smallest unit of storage.\n",
    "    Extents: Collection of contiguous blocks.\n",
    "    Segments: Collection of extents for specific database objects, like tables and indexes.\n",
    "        \n",
    "<strong>Indexing:</strong> Speed up data retrieval.\n",
    "\n",
    "    B-tree Indexes: Most common and useful for a broad range of queries.\n",
    "    Bitmap Indexes: Efficient for columns with low cardinality (few distinct values).\n",
    "    Clustered Indexes: Store data rows sorted by index key values.\n",
    "    Non-Clustered Indexes: Store a logical ordering separate from the physical data order.\n",
    "            \n",
    "<strong>Partitions:</strong> Dividing large tables into smaller, manageable pieces.\n",
    "\n",
    "    Range Partitioning: Divide based on a range of values.\n",
    "    List Partitioning: Divide based on a list of specific values.\n",
    "    Hash Partitioning: Distribute data evenly using a hash function.\n",
    "    Composite Partitioning: Combination of two or more partitioning strategies.\n",
    "\n",
    "<strong>Tablespace Management:</strong>\n",
    "    \n",
    "    Automatic Storage Management (ASM): Automates storage and space management.\n",
    "    Manual Tablespace Management: Define tablespaces and assign data files manually."
   ]
  },
  {
   "cell_type": "markdown",
   "id": "ac6a0935-4f75-487a-86aa-eeaf1361ed31",
   "metadata": {},
   "source": [
    "<h3>Database Structures in Oracle</h3>\n",
    "\n",
    "<strong>Data Dictionary:</strong> Explain how Oracle stores metadata in a series of tables and views.\n",
    "<br><strong>System Catalog:</strong> Collection of metadata that defines the database schema and structure.\n",
    "<br><strong>Dynamic Performance Views:</strong> Views that provide information about the current state of the database."
   ]
  }
 ],
 "metadata": {
  "kernelspec": {
   "display_name": "Python 3 (ipykernel)",
   "language": "python",
   "name": "python3"
  },
  "language_info": {
   "codemirror_mode": {
    "name": "ipython",
    "version": 3
   },
   "file_extension": ".py",
   "mimetype": "text/x-python",
   "name": "python",
   "nbconvert_exporter": "python",
   "pygments_lexer": "ipython3",
   "version": "3.9.12"
  }
 },
 "nbformat": 4,
 "nbformat_minor": 5
}
