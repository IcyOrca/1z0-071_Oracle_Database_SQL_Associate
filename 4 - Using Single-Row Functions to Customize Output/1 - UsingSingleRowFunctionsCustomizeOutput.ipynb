{
 "cells": [
  {
   "cell_type": "markdown",
   "id": "b85b76b1-b51e-46ff-8472-a914cb87f312",
   "metadata": {},
   "source": [
    "<h1>Manipulating Strings with Character Functions in SQL SELECT and WHERE Clauses</h1>"
   ]
  },
  {
   "cell_type": "markdown",
   "id": "531972d7-b93b-47b3-a410-8d3313864657",
   "metadata": {},
   "source": [
    "<h3>Introduction</h3>\n",
    "\n",
    "<strong>String, or character, functions in SQL allow you to manipulate and modify text data. \n",
    "<br>These functions are essential for data formatting, extraction, and transformation within queries. \n",
    "<br>They can be used in both the SELECT and WHERE clauses to format output or filter results based on specific text patterns or criteria.</strong>"
   ]
  },
  {
   "cell_type": "markdown",
   "id": "7c172862-43d2-4141-8044-1c324f942002",
   "metadata": {},
   "source": [
    "<h3>Common Character Functions</h3>\n",
    "\n",
    "<strong>UPPER</strong> – Converts all characters in a string to uppercase.\n",
    "<br><strong>LOWER</strong> – Converts all characters in a string to lowercase.\n",
    "<br><strong>INITCAP</strong> – Converts the first character of each word to uppercase and all other characters to lowercase.\n",
    "<br><strong>CONCAT</strong> – Combines two strings into one.\n",
    "<br><strong>SUBSTR</strong> – Extracts a specific portion of a string.\n",
    "<br><strong>LENGTH</strong> – Returns the length of a string.\n",
    "<br><strong>INSTR</strong> – Finds the position of a substring within a string.\n",
    "<br><strong>TRIM</strong> – Removes specified characters from the beginning or end of a string.\n",
    "<br><strong>LPAD / RPAD</strong> – Pads a string with characters on the left or right to reach a specified length.\n",
    "<br><strong>REPLACE</strong> – Replaces occurrences of a specified substring within a string."
   ]
  },
  {
   "cell_type": "markdown",
   "id": "974a2ffd",
   "metadata": {},
   "source": [
    "<h3>Examples of Common Character Functions</h3>\n",
    "\n",
    "<strong>UPPER, LOWER, and INITCAP:</strong> These functions adjust text case, often used for consistent formatting.\n",
    "\n",
    "<strong>Example:</strong> Retrieve all employee names in uppercase:\n",
    "\n",
    "    SELECT UPPER(first_name) AS \"Uppercase Name\" FROM employees;\n",
    "\n",
    "<strong>Example:</strong> Convert a department name to lowercase:\n",
    "\n",
    "    SELECT LOWER(department_name) AS \"Lowercase Dept\" FROM departments;\n",
    "\n",
    "<strong>Example:</strong> Display the first letter of each word capitalized:\n",
    "\n",
    "    SELECT INITCAP(last_name) AS \"Proper Name\" FROM employees;\n",
    "\n",
    "<br><strong>CONCAT:</strong> Combines two columns or strings into one output field.\n",
    "\n",
    "<strong>Example:</strong> Concatenate first and last names to display full names:\n",
    "\n",
    "    SELECT CONCAT(first_name, ' ') || last_name AS \"Full Name\" FROM employees;\n",
    "\n",
    "<br><strong>SUBSTR:</strong> Extracts a portion of a string, based on position and length.\n",
    "\n",
    "<strong>Example:</strong> Display the first three letters of employee last names:\n",
    "\n",
    "    SELECT SUBSTR(last_name, 1, 3) AS \"Short Name\" FROM employees;\n",
    "\n",
    "<br><strong>LENGTH:</strong> Returns the length of a string, useful for data validation or analysis.\n",
    "\n",
    "<strong>Example:</strong> Find the length of each last name:\n",
    "\n",
    "    SELECT last_name, LENGTH(last_name) AS \"Name Length\" FROM employees;\n",
    "\n",
    "<br><strong>INSTR:</strong> Finds the position of a substring within a string. If not found, it returns 0.\n",
    "\n",
    "<strong>Example:</strong> Find the position of the letter 'a' in each last name:\n",
    "\n",
    "    SELECT last_name, INSTR(last_name, 'a') AS \"Position of 'a'\" FROM employees;\n",
    "\n",
    "<br><strong>TRIM:</strong> Removes specific characters from the beginning or end of a string. If no characters are specified, it defaults to removing spaces.\n",
    "\n",
    "<strong>Example:</strong> Trim spaces from both sides of a job title:\n",
    "\n",
    "    SELECT TRIM(job_title) AS \"Trimmed Title\" FROM jobs;\n",
    "\n",
    "<br><strong>LPAD / RPAD:</strong> Pads a string with characters on the left (LPAD) or right (RPAD) to reach a specified length.\n",
    "\n",
    "<strong>Example:</strong> Add leading zeroes to a four-character employee ID to reach eight characters:\n",
    "\n",
    "    SELECT LPAD(employee_id, 8, '0') AS \"Padded ID\" FROM employees;\n",
    "\n",
    "<br><strong>REPLACE:</strong> Substitutes occurrences of a specified substring with another string.\n",
    "\n",
    "<strong>Example:</strong> Replace occurrences of 'Manager' with 'Supervisor':\n",
    "\n",
    "    SELECT REPLACE(job_title, 'Manager', 'Supervisor') AS \"New Title\" FROM jobs;"
   ]
  },
  {
   "cell_type": "markdown",
   "id": "06738cb5",
   "metadata": {},
   "source": [
    "<h3>Using Character Functions in WHERE Clauses</h3>\n",
    "\n",
    "<strong>String functions can also be used within WHERE clauses for filtering results based on modified string values.</strong>\n",
    "\n",
    "<strong>Example:</strong> Retrieve all employees with 'S' as the first letter of their last name\n",
    "\n",
    "    SELECT first_name, last_name FROM employees WHERE SUBSTR(last_name, 1, 1) = 'S';"
   ]
  },
  {
   "cell_type": "markdown",
   "id": "a4189af8",
   "metadata": {},
   "source": [
    "<strong>Practical Use Cases:</strong>\n",
    "\n",
    "    Data Formatting: Use UPPER, LOWER, or INITCAP to ensure data is consistently formatted.\n",
    "    Data Cleaning: Use TRIM to remove unwanted spaces from text fields.\n",
    "    Search Optimization: Use INSTR to locate specific keywords or phrases.\n",
    "    Transformation: Use CONCAT and SUBSTR to reshape data for better readability or reporting.\n",
    "\n",
    "<strong>Best Practices:</strong>\n",
    "\n",
    "    Use descriptive variable names to make it clear what input is expected.\n",
    "    Test your scripts to ensure variables work as intended, and provide meaningful prompts \n",
    "    for user input.\n",
    "    Double-check data types; ensure that the user inputs are compatible with the expected data type \n",
    "    in the query."
   ]
  }
 ],
 "metadata": {
  "kernelspec": {
   "display_name": "Python 3 (ipykernel)",
   "language": "python",
   "name": "python3"
  },
  "language_info": {
   "codemirror_mode": {
    "name": "ipython",
    "version": 3
   },
   "file_extension": ".py",
   "mimetype": "text/x-python",
   "name": "python",
   "nbconvert_exporter": "python",
   "pygments_lexer": "ipython3",
   "version": "3.9.12"
  }
 },
 "nbformat": 4,
 "nbformat_minor": 5
}
