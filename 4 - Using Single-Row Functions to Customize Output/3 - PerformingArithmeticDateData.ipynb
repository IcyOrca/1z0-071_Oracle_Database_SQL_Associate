{
 "cells": [
  {
   "cell_type": "markdown",
   "id": "b85b76b1-b51e-46ff-8472-a914cb87f312",
   "metadata": {},
   "source": [
    "<h1>Performing Arithmetic with Date Data</h1>"
   ]
  },
  {
   "cell_type": "markdown",
   "id": "531972d7-b93b-47b3-a410-8d3313864657",
   "metadata": {},
   "source": [
    "<h3>Introduction</h3>\n",
    "\n",
    "<strong>SQL allows users to perform arithmetic operations with date data to manipulate and analyze time-based information. \n",
    "<br>Common operations include adding or subtracting days, calculating differences between dates, and determining future or past dates based on current data. \n",
    "<br>Date arithmetic is essential for reporting, scheduling, and temporal data analysis.</strong>"
   ]
  },
  {
   "cell_type": "markdown",
   "id": "06738cb5",
   "metadata": {},
   "source": [
    "<h3>Adding and Subtracting Days from Dates</h3>\n",
    "\n",
    "<strong>You can add or subtract a specific number of days directly from a date. This operation is straightforward and often used to calculate future or past dates.</strong>\n",
    "\n",
    "<strong>Example:</strong> To find the date 7 days after an employee's hire date.\n",
    "    \n",
    "    SELECT hire_date + 7 AS \"One Week Later\" FROM employees;"
   ]
  },
  {
   "cell_type": "markdown",
   "id": "6dfcd958",
   "metadata": {},
   "source": [
    "<h3>Using Date Functions for Advanced Date Arithmetic</h3>\n",
    "\n",
    "<strong>Date functions such as ADD_MONTHS, MONTHS_BETWEEN, NEXT_DAY, and LAST_DAY provide additional control over date arithmetic, allowing for month-based calculations, finding specific days, and identifying month-end dates.</strong>\n",
    "\n",
    "<strong>ADD_MONTHS:</strong> Adds a specified number of months to a date.\n",
    "<br><strong>Example:</strong> Find the date three months after an employee’s hire date.\n",
    "    \n",
    "    SELECT ADD_MONTHS(hire_date, 3) AS \"Three Months Later\" FROM employees;\n",
    "\n",
    "<strong>MONTHS_BETWEEN:</strong> Calculates the number of months between two dates.\n",
    "<br><strong>Example:</strong> Calculate the difference in months between an employee's hire date and today.\n",
    "    \n",
    "    SELECT MONTHS_BETWEEN(SYSDATE, hire_date) AS \"Months with Company\" FROM employees;\n",
    "\n",
    "<strong>NEXT_DAY:</strong> Finds the date of the next specified weekday after a given date.\n",
    "<br><strong>Example:</strong> Find the next Monday after an employee’s hire date.\n",
    "    \n",
    "    SELECT NEXT_DAY(hire_date, 'MONDAY') AS \"Next Monday\" FROM employees;\n",
    "\n",
    "<strong>LAST_DAY:</strong> Returns the last day of the month for a given date.\n",
    "<br><strong>Example:</strong> Find the last day of the month an employee was hired.\n",
    "    \n",
    "    SELECT LAST_DAY(hire_date) AS \"End of Hire Month\" FROM employees;"
   ]
  },
  {
   "cell_type": "markdown",
   "id": "24fbedfa",
   "metadata": {},
   "source": [
    "<h3>TRUNC</h3>\n",
    "\n",
    "<strong>The TRUNC function truncates a number to a specified number of decimal places, effectively cutting off any remaining digits without rounding.</strong>\n",
    "\n",
    "<strong>Syntax:</strong>\n",
    "\n",
    "    TRUNC(number, decimal_places)\n",
    "\n",
    "<strong>Explanation:</strong>\n",
    "\n",
    "    number: The numeric value to be truncated.\n",
    "    decimal_places: (Optional) The number of decimal places to keep. \n",
    "    If omitted, it defaults to 0, meaning it will truncate to a whole number.\n",
    "\n",
    "<strong>Examples:</strong>\n",
    "<br>Truncate a salary to the nearest whole number:\n",
    "    \n",
    "    SELECT TRUNC(salary) AS \"Truncated Salary\" FROM employees;\n",
    "\n",
    "Truncate a salary to one decimal place:\n",
    "\n",
    "    SELECT TRUNC(salary, 1) AS \"Truncated Salary\" FROM employees;\n",
    "\n",
    "Truncate a revenue amount to the nearest thousand:\n",
    "    \n",
    "    SELECT TRUNC(revenue, -3) AS \"Truncated to Thousands\" FROM financials;"
   ]
  },
  {
   "cell_type": "markdown",
   "id": "5e712eec",
   "metadata": {},
   "source": [
    "<h3>MOD</h3>\n",
    "\n",
    "<strong>The MOD function calculates the remainder of a division between two numbers. This is useful for tasks like determining whether a number is even or odd.</strong>\n",
    "\n",
    "<strong>Syntax:</strong>\n",
    "\n",
    "    MOD(number1, number2)\n",
    "\n",
    "<strong>Explanation:</strong>\n",
    "\n",
    "    number1: The dividend.\n",
    "    number2: The divisor.\n",
    "\n",
    "<strong>Examples:</strong>\n",
    "<br>Find the remainder when a salary is divided by 1000:\n",
    "    \n",
    "    SELECT MOD(salary, 1000) AS \"Remainder\" FROM employees;\n",
    "\n",
    "Determine if employee IDs are even or odd:\n",
    "\n",
    "    SELECT employee_id, MOD(employee_id, 2) AS \"Even_Odd\" FROM employees;\n",
    "\n",
    "Check if a product quantity is a multiple of 5:\n",
    "\n",
    "    SELECT product_id, MOD(quantity, 5) AS \"Multiple of 5\" FROM inventory;"
   ]
  },
  {
   "cell_type": "markdown",
   "id": "a4189af8",
   "metadata": {},
   "source": [
    "<strong>Practical Use Cases:</strong>\n",
    "\n",
    "    ROUND: Use this to format financial data or other numeric values where exact precision is necessary. \n",
    "    For example, to round currency amounts to two decimal places.\n",
    "    TRUNC: Ideal for when exact values are needed without rounding, such as displaying scores \n",
    "    or measurements in a standardized format.\n",
    "    MOD: Commonly used for operations that require divisibility checks, such as batch processing \n",
    "    or categorizing even/odd values.\n",
    "\n",
    "<strong>Best Practices:</strong>\n",
    "\n",
    "    Always be mindful of the context in which you are using each function:\n",
    "\n",
    "    Use ROUND when precise rounding is required.\n",
    "    Use TRUNC when the exact whole or decimal value is needed.\n",
    "    Use MOD for remainder-based calculations or to apply logic based on divisibility."
   ]
  }
 ],
 "metadata": {
  "kernelspec": {
   "display_name": "Python 3 (ipykernel)",
   "language": "python",
   "name": "python3"
  },
  "language_info": {
   "codemirror_mode": {
    "name": "ipython",
    "version": 3
   },
   "file_extension": ".py",
   "mimetype": "text/x-python",
   "name": "python",
   "nbconvert_exporter": "python",
   "pygments_lexer": "ipython3",
   "version": "3.9.12"
  }
 },
 "nbformat": 4,
 "nbformat_minor": 5
}
