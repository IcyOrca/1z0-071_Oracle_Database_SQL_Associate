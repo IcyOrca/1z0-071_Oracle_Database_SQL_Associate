{
 "cells": [
  {
   "cell_type": "markdown",
   "id": "b85b76b1-b51e-46ff-8472-a914cb87f312",
   "metadata": {},
   "source": [
    "<h1>Performing Arithmetic with Date Data</h1>"
   ]
  },
  {
   "cell_type": "markdown",
   "id": "531972d7-b93b-47b3-a410-8d3313864657",
   "metadata": {},
   "source": [
    "<h3>Introduction</h3>\n",
    "\n",
    "<strong>SQL allows users to perform arithmetic operations with date data to manipulate and analyze time-based information. \n",
    "<br>Common operations include adding or subtracting days, calculating differences between dates, and determining future or past dates based on current data. \n",
    "<br>Date arithmetic is essential for reporting, scheduling, and temporal data analysis.</strong>"
   ]
  },
  {
   "cell_type": "markdown",
   "id": "06738cb5",
   "metadata": {},
   "source": [
    "<h3>Adding and Subtracting Days from Dates</h3>\n",
    "\n",
    "<strong>You can add or subtract a specific number of days directly from a date. This operation is straightforward and often used to calculate future or past dates.</strong>\n",
    "\n",
    "<strong>Example:</strong> To find the date 7 days after an employee's hire date.\n",
    "    \n",
    "    SELECT hire_date + 7 AS \"One Week Later\" FROM employees;"
   ]
  },
  {
   "cell_type": "markdown",
   "id": "f3564a10",
   "metadata": {},
   "source": [
    "<h3>Using Date Functions for Advanced Date Arithmetic</h3>\n",
    "\n",
    "<strong>Date functions such as ADD_MONTHS, MONTHS_BETWEEN, NEXT_DAY, and LAST_DAY provide additional control over date arithmetic, allowing for month-based calculations, finding specific days, and identifying month-end dates.</strong>\n",
    "\n",
    "<strong>ADD_MONTHS:</strong> Adds a specified number of months to a date.\n",
    "<br><strong>Example:</strong> Find the date three months after an employee’s hire date.\n",
    "    \n",
    "    SELECT ADD_MONTHS(hire_date, 3) AS \"Three Months Later\" FROM employees;\n",
    "\n",
    "<strong>MONTHS_BETWEEN:</strong> Calculates the number of months between two dates.\n",
    "<br><strong>Example:</strong> Calculate the difference in months between an employee's hire date and today.\n",
    "    \n",
    "    SELECT MONTHS_BETWEEN(SYSDATE, hire_date) AS \"Months with Company\" FROM employees;\n",
    "\n",
    "<strong>NEXT_DAY:</strong> Finds the date of the next specified weekday after a given date.\n",
    "<br><strong>Example:</strong> Find the next Monday after an employee’s hire date.\n",
    "    \n",
    "    SELECT NEXT_DAY(hire_date, 'MONDAY') AS \"Next Monday\" FROM employees;\n",
    "\n",
    "<strong>LAST_DAY:</strong> Returns the last day of the month for a given date.\n",
    "<br><strong>Example:</strong> Find the last day of the month an employee was hired.\n",
    "    \n",
    "    SELECT LAST_DAY(hire_date) AS \"End of Hire Month\" FROM employees;"
   ]
  },
  {
   "cell_type": "markdown",
   "id": "a4189af8",
   "metadata": {},
   "source": [
    "<strong>Practical Use Cases:</strong>\n",
    "\n",
    "    Vacation Planning: Use date arithmetic to calculate available vacation days or determine return dates.\n",
    "    \n",
    "    Project Management: Calculate project durations, upcoming deadlines, and adjust timelines.\n",
    "    \n",
    "    Billing and Financial Analysis: Determine billing cycles, forecast future billing dates, and analyze financial periods.\n",
    "\n",
    "<strong>Best Practices:</strong>\n",
    "\n",
    "    Use date functions when performing complex calculations involving months or specific days, as they handle variations in month length and leap years.\n",
    "    \n",
    "    Subtract dates directly to calculate day-based differences and use ADD_MONTHS for month-based adjustments.\n",
    "    \n",
    "    When using NEXT_DAY or LAST_DAY, always specify the appropriate weekday or understand the month-end calculation."
   ]
  }
 ],
 "metadata": {
  "kernelspec": {
   "display_name": "Python 3 (ipykernel)",
   "language": "python",
   "name": "python3"
  },
  "language_info": {
   "codemirror_mode": {
    "name": "ipython",
    "version": 3
   },
   "file_extension": ".py",
   "mimetype": "text/x-python",
   "name": "python",
   "nbconvert_exporter": "python",
   "pygments_lexer": "ipython3",
   "version": "3.9.12"
  }
 },
 "nbformat": 4,
 "nbformat_minor": 5
}
